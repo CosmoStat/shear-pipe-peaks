{
 "cells": [
  {
   "cell_type": "code",
   "execution_count": null,
   "metadata": {},
   "outputs": [],
   "source": [
    "import numpy as np\n",
    "from lenspack.utils import bin2d\n",
    "from lenspack.image.inversion import ks93\n",
    "from lenspack.geometry.projections.gnom import radec2xy\n",
    "from scipy import ndimage as ndi\n",
    "import matplotlib.pyplot as plt\n",
    "from astropy.io import fits"
   ]
  },
  {
   "cell_type": "code",
   "execution_count": null,
   "metadata": {},
   "outputs": [],
   "source": [
    "import lenspack.starlet_l1norm"
   ]
  },
  {
   "attachments": {},
   "cell_type": "markdown",
   "metadata": {},
   "source": [
    "# Reading the data"
   ]
  },
  {
   "cell_type": "code",
   "execution_count": null,
   "metadata": {},
   "outputs": [],
   "source": [
    "#1. load catalog\n",
    "dd = fits.open('shapepipe_1500_goldshape_v1.fits')"
   ]
  },
  {
   "cell_type": "code",
   "execution_count": null,
   "metadata": {},
   "outputs": [],
   "source": [
    "dd.info()\n",
    "dd[0].header\n",
    "dd[1].header"
   ]
  },
  {
   "cell_type": "code",
   "execution_count": null,
   "metadata": {},
   "outputs": [],
   "source": [
    "dd_table"
   ]
  },
  {
   "cell_type": "code",
   "execution_count": null,
   "metadata": {},
   "outputs": [],
   "source": [
    "del dd_table"
   ]
  },
  {
   "cell_type": "code",
   "execution_count": null,
   "metadata": {},
   "outputs": [],
   "source": [
    "import matplotlib.pyplot as plt\n",
    "from lenspack.utils import bin2d\n",
    "from lenspack.image.inversion import ks93"
   ]
  },
  {
   "cell_type": "code",
   "execution_count": null,
   "metadata": {},
   "outputs": [],
   "source": [
    "# Load the binary table from the second HDU\n",
    "data = dd[1].data\n",
    "\n",
    "# Print the column names\n",
    "print(data.names)"
   ]
  },
  {
   "cell_type": "code",
   "execution_count": null,
   "metadata": {},
   "outputs": [],
   "source": [
    "filtered_data = data[data['patch'] == 3]"
   ]
  },
  {
   "cell_type": "code",
   "execution_count": null,
   "metadata": {},
   "outputs": [],
   "source": [
    "del data"
   ]
  },
  {
   "cell_type": "code",
   "execution_count": null,
   "metadata": {},
   "outputs": [],
   "source": [
    "ra = filtered_data['ra']\n",
    "dec = filtered_data['dec']\n",
    "g1 = filtered_data['g1']\n",
    "g2 = filtered_data['g2']\n",
    "w = filtered_data['w']\n",
    "# mag = filtered_data['mag']"
   ]
  },
  {
   "cell_type": "code",
   "execution_count": null,
   "metadata": {},
   "outputs": [],
   "source": [
    "ra.max()-ra.min()"
   ]
  },
  {
   "cell_type": "code",
   "execution_count": null,
   "metadata": {},
   "outputs": [],
   "source": [
    "dec.max()-dec.min()"
   ]
  },
  {
   "cell_type": "code",
   "execution_count": null,
   "metadata": {},
   "outputs": [],
   "source": [
    "print(ra.min(), ra.max(), dec.min(), dec.max())"
   ]
  },
  {
   "attachments": {},
   "cell_type": "markdown",
   "metadata": {},
   "source": [
    "### Compute number of pixels & switch from RA/DEC to pixel coordinates"
   ]
  },
  {
   "cell_type": "code",
   "execution_count": null,
   "metadata": {},
   "outputs": [],
   "source": [
    "#3. Compute number of pixels, Switch from RA, DEC to pixels\n",
    "\n",
    "\n",
    "# Define the size of the pixel grid in degrees and the pixel size in arcminutes\n",
    "size_x_deg = 36\n",
    "size_y_deg = 16\n",
    "pixel_size_emap_amin=0.4 # pixel size in arcminutes --> will give us the pixel size that we want our mass map to be\n",
    "\n",
    "# Calculate the number of pixels in the x and y directions\n",
    "Nx = int(size_x_deg / pixel_size_emap_amin * 60)\n",
    "Ny = int(size_y_deg / pixel_size_emap_amin * 60)\n",
    "\n",
    "print(Nx,Ny)\n",
    "import lenspack \n",
    "\n",
    "# Project (ra,dec) -> (x,y)\n",
    "# The radec2xy() function takes the mean RA and DEC values of the galaxies as well as the RA and DEC values of each individual galaxy as input\n",
    "x, y = radec2xy(np.mean(ra), np.mean(dec), ra, dec)\n",
    "print(x.shape, y.shape)\n",
    "print(Nx,Ny)"
   ]
  },
  {
   "attachments": {},
   "cell_type": "markdown",
   "metadata": {},
   "source": [
    "### First map with Kaiser Squires"
   ]
  },
  {
   "cell_type": "code",
   "execution_count": null,
   "metadata": {},
   "outputs": [],
   "source": [
    "# e1map, e2map = bin2d(x, y, npix=(Nx,Ny), v=(g1*1.4,g2*1.4))\n",
    "e1map, e2map = bin2d(x, y, npix=(Nx,Ny), v=(g1,g2))\n",
    "print(e1map.shape, e2map.shape)"
   ]
  },
  {
   "cell_type": "code",
   "execution_count": null,
   "metadata": {},
   "outputs": [],
   "source": [
    "kappaE_cal, kappaB_cal = ks93(e1map, e2map)"
   ]
  },
  {
   "cell_type": "code",
   "execution_count": null,
   "metadata": {},
   "outputs": [],
   "source": [
    "# Plot peak positions over the convergence\n",
    "fig, ax = plt.subplots(1, 1, figsize=(20, 7))\n",
    "mappable = ax.imshow(kappaE_cal, cmap='inferno', vmin=-0.15, vmax=0.15, origin='lower')\n",
    "# ax.scatter(y, x, s=10, c='orange')  # reverse x and y due to array indexing\n",
    "# ax.set_axis_off()\n",
    "# Reversing x-axis\n",
    "ax.set_xlim(ax.get_xlim()[::-1])\n",
    "fig.colorbar(mappable)\n",
    "plt.show()"
   ]
  },
  {
   "attachments": {},
   "cell_type": "markdown",
   "metadata": {},
   "source": [
    "Plot whole footprint with cutouts"
   ]
  },
  {
   "cell_type": "code",
   "execution_count": null,
   "metadata": {},
   "outputs": [],
   "source": [
    "from matplotlib.patches import Rectangle\n",
    "from mpl_toolkits.axes_grid1 import make_axes_locatable\n",
    "# 194.82476084451298 230.31501800287484 47.74981547830552 63.74989899311319\n",
    "# Plot peak positions over the convergence\n",
    "fig, ax = plt.subplots(1, 1, figsize=(12, 6))\n",
    "mappable = ax.imshow(kappaE_cal, cmap='inferno', vmin=-0.12, vmax=0.12)\n",
    "# ax.scatter(y, x, s=10, c='orange')  # reverse x and y due to array indexing\n",
    "\n",
    "loc, labels = plt.xticks()\n",
    "n_ticks_x = 6\n",
    "plt.xticks(np.arange(loc[1], loc[-1], (loc[-1]-loc[1])/n_ticks_x), labels=np.round(np.arange(194.82476084451298, 230.31501800287484, step=(230.31501800287484-194.82476084451298)/n_ticks_x), 1))\n",
    "loc, labels = plt.yticks()\n",
    "n_ticks_y = 6\n",
    "plt.yticks(np.arange(loc[1], loc[-1], (loc[-1]-loc[1])/n_ticks_y), labels=np.round(np.arange(47.74981547830552, 63.74989899311319, step=(63.74989899311319-47.74981547830552)/n_ticks_x), 1))\n",
    "plt.gca().invert_yaxis()\n",
    "plt.gca().invert_xaxis()\n",
    "plt.xlabel('Ra (deg)')\n",
    "plt.ylabel('Dec (deg)')\n",
    "# plt.title('$\\kappa_{E}$')\n",
    "divider = make_axes_locatable(plt.gca())\n",
    "cax = divider.append_axes(\"right\", size=\"5%\", pad=0.2)\n",
    "\n",
    "cbar = plt.colorbar(mappable, cax=cax)\n",
    "\n",
    "# Let's say you want to create a cutout at coordinates (100, 200) with a size of 512x512.\n",
    "# You can change these values according to your needs\n",
    "x1, y1 = 2000, 250\n",
    "x2, y2 = 2512, 250\n",
    "x3, y3 = 3024, 250\n",
    "x4, y4 = 3536, 250\n",
    "x5, y5 = 3300, 762\n",
    "x6, y6 = 2788, 762\n",
    "x7, y7 = 3200, 1274\n",
    "x8, y8 = 2688, 1274\n",
    "x9, y9 = 2176, 1200\n",
    "x10, y10 = 1664, 1230\n",
    "x11, y11 = 3712, 1274\n",
    "# x12, y12 = 3712, 1786\n",
    "x12, y12 = 1488, 310\n",
    "\n",
    "width, height = 512, 512\n",
    "\n",
    "# Create a Rectangle patch\n",
    "rect1 = Rectangle((x1, y1), width, height, linewidth=1, edgecolor='k', facecolor='none')\n",
    "rect2 = Rectangle((x2, y2), width, height, linewidth=1, edgecolor='k', facecolor='none')\n",
    "rect3 = Rectangle((x3, y3), width, height, linewidth=1, edgecolor='k', facecolor='none')\n",
    "rect4 = Rectangle((x4, y4), width, height, linewidth=1, edgecolor='k', facecolor='none')\n",
    "rect5 = Rectangle((x5, y5), width, height, linewidth=1, edgecolor='k', facecolor='none')\n",
    "rect6 = Rectangle((x6, y6), width, height, linewidth=1, edgecolor='k', facecolor='none')\n",
    "rect7 = Rectangle((x7, y7), width, height, linewidth=1, edgecolor='k', facecolor='none')\n",
    "rect8 = Rectangle((x8, y8), width, height, linewidth=1, edgecolor='k', facecolor='none')\n",
    "rect9 = Rectangle((x9, y9), width, height, linewidth=1, edgecolor='k', facecolor='none')\n",
    "rect10 = Rectangle((x10, y10), width, height, linewidth=1, edgecolor='k', facecolor='none')\n",
    "rect11 = Rectangle((x11, y11), width, height, linewidth=1, edgecolor='k', facecolor='none')\n",
    "rect12 = Rectangle((x12, y12), width, height, linewidth=1, edgecolor='k', facecolor='none')\n",
    "\n",
    "# Add the patch to the Axes\n",
    "ax.add_patch(rect1)\n",
    "ax.add_patch(rect2)\n",
    "ax.add_patch(rect3)\n",
    "ax.add_patch(rect4)\n",
    "ax.add_patch(rect5) \n",
    "ax.add_patch(rect6)\n",
    "ax.add_patch(rect7) \n",
    "ax.add_patch(rect8)\n",
    "ax.add_patch(rect9)\n",
    "ax.add_patch(rect10)\n",
    "ax.add_patch(rect11)\n",
    "ax.add_patch(rect12)\n",
    "\n",
    "# ax.set_xlim(ax.get_xlim()[::-1])\n",
    "# fig.colorbar(mappable)\n",
    "#save figure as pdf\n",
    "# plt.savefig('figures/Kaiser_Squires_cutouts_kappa.pdf', bbox_inches='tight')\n",
    "plt.show()"
   ]
  },
  {
   "cell_type": "code",
   "execution_count": null,
   "metadata": {},
   "outputs": [],
   "source": [
    "from matplotlib.patches import Rectangle\n",
    "\n",
    "fig, ax = plt.subplots(1, 1, figsize=(20, 7))\n",
    "mappable = ax.imshow(kappaE_cal, cmap='inferno', vmin=-0.1, vmax=0.1, origin='lower')\n",
    "ax.set_xlim(ax.get_xlim()[::-1])\n",
    "fig.colorbar(mappable)\n",
    "\n",
    "# Let's say you want to create a cutout at coordinates (100, 200) with a size of 512x512.\n",
    "# You can change these values according to your needs\n",
    "x1, y1 = 2000, 250\n",
    "x2, y2 = 2512, 250\n",
    "x3, y3 = 3024, 250\n",
    "x4, y4 = 3536, 250\n",
    "x5, y5 = 3300, 762\n",
    "x6, y6 = 2788, 762\n",
    "x7, y7 = 3200, 1274\n",
    "x8, y8 = 2688, 1274\n",
    "x9, y9 = 2176, 1200\n",
    "x10, y10 = 1664, 1230\n",
    "x11, y11 = 3712, 1274\n",
    "# x12, y12 = 3712, 1786\n",
    "x12, y12 = 1488, 310\n",
    "\n",
    "width, height = 512, 512\n",
    "\n",
    "# Create a Rectangle patch\n",
    "rect1 = Rectangle((x1, y1), width, height, linewidth=1, edgecolor='k', facecolor='none')\n",
    "rect2 = Rectangle((x2, y2), width, height, linewidth=1, edgecolor='k', facecolor='none')\n",
    "rect3 = Rectangle((x3, y3), width, height, linewidth=1, edgecolor='k', facecolor='none')\n",
    "rect4 = Rectangle((x4, y4), width, height, linewidth=1, edgecolor='k', facecolor='none')\n",
    "rect5 = Rectangle((x5, y5), width, height, linewidth=1, edgecolor='k', facecolor='none')\n",
    "rect6 = Rectangle((x6, y6), width, height, linewidth=1, edgecolor='k', facecolor='none')\n",
    "rect7 = Rectangle((x7, y7), width, height, linewidth=1, edgecolor='k', facecolor='none')\n",
    "rect8 = Rectangle((x8, y8), width, height, linewidth=1, edgecolor='k', facecolor='none')\n",
    "rect9 = Rectangle((x9, y9), width, height, linewidth=1, edgecolor='k', facecolor='none')\n",
    "rect10 = Rectangle((x10, y10), width, height, linewidth=1, edgecolor='k', facecolor='none')\n",
    "rect11 = Rectangle((x11, y11), width, height, linewidth=1, edgecolor='k', facecolor='none')\n",
    "rect12 = Rectangle((x12, y12), width, height, linewidth=1, edgecolor='k', facecolor='none')\n",
    "\n",
    "# Add the patch to the Axes\n",
    "ax.add_patch(rect1)\n",
    "ax.add_patch(rect2)\n",
    "ax.add_patch(rect3)\n",
    "ax.add_patch(rect4)\n",
    "ax.add_patch(rect5) \n",
    "ax.add_patch(rect6)\n",
    "ax.add_patch(rect7) \n",
    "ax.add_patch(rect8)\n",
    "ax.add_patch(rect9)\n",
    "ax.add_patch(rect10)\n",
    "ax.add_patch(rect11)\n",
    "ax.add_patch(rect12)\n",
    "\n",
    "plt.show()"
   ]
  },
  {
   "attachments": {},
   "cell_type": "markdown",
   "metadata": {},
   "source": [
    "Define cutouts"
   ]
  },
  {
   "cell_type": "code",
   "execution_count": null,
   "metadata": {},
   "outputs": [],
   "source": [
    "h = 512\n",
    "cutout1 = kappaE_cal[250:250+h, 2000:2000+h]\n",
    "cutout2 = kappaE_cal[250:250+h, 2512:2512+h]\n",
    "cutout3 = kappaE_cal[250:250+h, 3024:3024+h]\n",
    "cutout4 = kappaE_cal[250:250+h, 3536:3536+h]\n",
    "cutout5 = kappaE_cal[762:762+h, 3300:3300+h]\n",
    "cutout6 = kappaE_cal[762:762+h, 2788:2788+h]\n",
    "cutout7 = kappaE_cal[1274:1274+h, 3200:3200+h]\n",
    "cutout8 = kappaE_cal[1274:1274+h, 2688:2688+h]\n",
    "cutout9 = kappaE_cal[1200:1200+h, 2176:2176+h]\n",
    "cutout10 = kappaE_cal[1230:1230+h, 1664:1664+h]\n",
    "cutout11 = kappaE_cal[1274:1274+h, 3712:3712+h]\n",
    "cutout12 = kappaE_cal[310:310+h, 1488:1488+h]\n",
    "\n",
    "cutouts = [cutout1, cutout2, cutout3, cutout4, cutout5, cutout6, cutout7, cutout8, cutout9, cutout10, cutout11, cutout12]"
   ]
  },
  {
   "cell_type": "code",
   "execution_count": null,
   "metadata": {},
   "outputs": [],
   "source": [
    "#save 1 cutout as npy file\n",
    "np.save('saved_mass_maps/cutout1_KS_w1.4.npy', cutout1)"
   ]
  },
  {
   "attachments": {},
   "cell_type": "markdown",
   "metadata": {},
   "source": [
    "Plot each cutout"
   ]
  },
  {
   "cell_type": "code",
   "execution_count": null,
   "metadata": {},
   "outputs": [],
   "source": [
    "# Define the grid size for your subplots\n",
    "nrows, ncols = 4, 3\n",
    "\n",
    "# Create your subplots\n",
    "fig, axs = plt.subplots(nrows, ncols, figsize=(20, 20))\n",
    "\n",
    "# Since axs is 2D, we need to flatten it to iterate over it\n",
    "axs = axs.flatten()\n",
    "\n",
    "for i in range(len(cutouts)):\n",
    "    mappable = axs[i].imshow(cutouts[i], cmap='inferno', vmin=-0.2, vmax=0.2, origin='lower')\n",
    "    axs[i].set_xlim(axs[i].get_xlim()[::-1])\n",
    "\n",
    "# Add a colorbar\n",
    "fig.colorbar(mappable, ax=axs)\n",
    "#save figure as pdf\n",
    "# plt.savefig('figures/KS_12_cutouts_kappa.pdf', bbox_inches='tight')\n",
    "\n",
    "plt.show()\n"
   ]
  },
  {
   "attachments": {},
   "cell_type": "markdown",
   "metadata": {},
   "source": [
    "### Peak counts for the whole footprint"
   ]
  },
  {
   "cell_type": "code",
   "execution_count": null,
   "metadata": {},
   "outputs": [],
   "source": [
    "#7. smooth kappa map with gaussian filter\n",
    "\n",
    "# Set the standard deviation of the Gaussian filter based on the pixel size of the kappa map\n",
    "# pixel_size_emap_amin is the pixel size of the kappa map in arcminutes\n",
    "precision_Peaks = 2/pixel_size_emap_amin\n",
    "\n",
    "# Smooth the E-mode component of the kappa map with a Gaussian filter\n",
    "# The gaussian_filter() function from the ndi module is used to perform the smoothing\n",
    "kappa_noisy_smoothed_cal = ndi.gaussian_filter(kappaE_cal, precision_Peaks) # Global\n",
    "\n",
    "# Smooth the B-mode component of the kappa map with a Gaussian filter\n",
    "kappa_noisy_smoothedB = ndi.gaussian_filter(kappaB_cal, precision_Peaks) #ei/Rii"
   ]
  },
  {
   "cell_type": "code",
   "execution_count": null,
   "metadata": {},
   "outputs": [],
   "source": [
    "#8. convert kappa map to SNR map\n",
    "\n",
    "# define noise properties \n",
    "#galaxy number density in gal/arcmin^2\n",
    "n_gal=7\n",
    "#pixel size in arcmin\n",
    "pix_arcmin=0.4\n",
    "#compute shape noise for CFIS\n",
    "shape_noise=0.44\n",
    "sigma_noise_CFIS=shape_noise/(np.sqrt(2*n_gal*pix_arcmin**2))\n",
    "# generate noise map\n",
    "noise_CFIS_z05=sigma_noise_CFIS*np.random.randn(512, 512)\n",
    "\n",
    "# compute snr map\n",
    "snr_cal = kappa_noisy_smoothed_cal/np.std(ndi.gaussian_filter(noise_CFIS_z05, precision_Peaks))\n",
    "snrB = kappa_noisy_smoothedB/np.std(ndi.gaussian_filter(noise_CFIS_z05, precision_Peaks))\n"
   ]
  },
  {
   "cell_type": "code",
   "execution_count": null,
   "metadata": {},
   "outputs": [],
   "source": [
    "import lenspack.peaks as peaks\n",
    "#8. measuring peaks\n",
    "# we want peak counts computed on SNR maps, but we can also compute them directly on kappa maps\n",
    "\n",
    "# run peak counts on kappa maps\n",
    "kappa_th = np.linspace(-0.06, 0.06, 31)\n",
    "kappa_th_center = 0.5*(kappa_th[:-1]+kappa_th[1:])\n",
    "\n",
    "peak_counts_cal, bins_cal = peaks.peaks_histogram(kappa_noisy_smoothed_cal,kappa_th)\n",
    "\n",
    "# compute peak counts on snr maps- this will look like input to likelihood code\n",
    "kappa_snr = np.linspace(-2,6,31)\n",
    "kappa_th_center_snr = 0.5*(kappa_snr[:-1]+kappa_snr[1:])\n",
    "\n",
    "peak_counts_cal_snr, bins_cal = peaks.peaks_histogram(snr_cal,kappa_snr)"
   ]
  },
  {
   "cell_type": "code",
   "execution_count": null,
   "metadata": {},
   "outputs": [],
   "source": [
    "#plot single-Gaussian peak counts- you can compare this for different mass mapping methods.  we can try per patch and also comparing the mean across 13 patches\n",
    "plt.figure(figsize=(9,6))\n",
    "plt.plot(kappa_th_center,peak_counts_cal/12960000,'b-',label='Global cal')\n",
    "plt.legend()\n",
    "plt.xticks(fontsize=18)\n",
    "plt.yticks(fontsize=18)\n",
    "plt.xlabel('kappa smooth', fontsize=18)\n",
    "plt.ylabel('peak counts', fontsize=18)\n",
    "\n",
    "plt.savefig('plots/peak_counts_cal.png', dpi=300)\n",
    "plt.show()\n",
    "\n",
    "# save peak counts as npy file\n",
    "np.save('saved_peak_counts/kappa_peak_counts_whole_footprint.npy', peak_counts_cal)"
   ]
  },
  {
   "cell_type": "code",
   "execution_count": null,
   "metadata": {},
   "outputs": [],
   "source": [
    "# compute peak counts on SNR maps\n",
    "snr_th = np.linspace(-2, 6, 31) # Define a suitable range for the SNR map\n",
    "snr_th_center = 0.5 * (snr_th[:-1] + snr_th[1:])\n",
    "\n",
    "peak_counts_snr, bins_snr = peaks.peaks_histogram(snr_cal, snr_th)\n",
    "\n",
    "# Plot the peak counts for SNR\n",
    "plt.figure(figsize=(9,6))\n",
    "plt.plot(snr_th_center, peak_counts_snr/12960000, 'r-', label='SNR')\n",
    "plt.legend()\n",
    "plt.xticks(fontsize=18)\n",
    "plt.yticks(fontsize=18)\n",
    "plt.xlabel('SNR', fontsize=18)\n",
    "plt.ylabel('peak counts', fontsize=18)\n",
    "plt.savefig('plots/peak_counts_snr.png', dpi=300)\n",
    "plt.show()\n",
    "\n",
    "# save peak counts as npy file\n",
    "np.save('saved_peak_counts/snr_peak_counts_whole_footprint.npy', peak_counts_snr)"
   ]
  },
  {
   "attachments": {},
   "cell_type": "markdown",
   "metadata": {},
   "source": [
    "### Peak counts for one cutout"
   ]
  },
  {
   "cell_type": "code",
   "execution_count": null,
   "metadata": {},
   "outputs": [],
   "source": [
    "#7. smooth kappa map with gaussian filter\n",
    "\n",
    "# Smooth the E-mode component of the kappa map with a Gaussian filter\n",
    "cutout_smoothed_cal = ndi.gaussian_filter(cutout1, precision_Peaks) # Global\n",
    "\n",
    "# Smooth the B-mode component of the kappa map with a Gaussian filter\n",
    "# cutout_smoothedB = ndi.gaussian_filter(kappaB_cal, precision_Peaks) #ei/Rii\n",
    "\n",
    "#8. convert kappa map to SNR map\n",
    "\n",
    "# generate noise map\n",
    "noise_CFIS_z05=sigma_noise_CFIS*np.random.randn(512, 512)\n",
    "\n",
    "# compute snr map\n",
    "snr_cal_cutout = cutout_smoothed_cal/np.std(ndi.gaussian_filter(noise_CFIS_z05, precision_Peaks))\n",
    "# snrB = kappa_noisy_smoothedB/np.std(ndi.gaussian_filter(noise_CFIS_z05, precision_Peaks))\n",
    "\n",
    "#8. measuring peaks\n",
    "# we want peak counts computed on SNR maps, but we can also compute them directly on kappa maps\n",
    "\n",
    "# run peak counts on kappa maps\n",
    "peak_counts_cal, bins_cal = peaks.peaks_histogram(cutout_smoothed_cal,kappa_th)\n",
    "\n",
    "# compute peak counts on snr maps- this will look like input to likelihood code\n",
    "peak_counts_cal_snr, bins_cal = peaks.peaks_histogram(snr_cal_cutout,kappa_snr)\n",
    "\n",
    "#plot single-Gaussian peak counts- you can compare this for different mass mapping methods.  we can try per patch and also comparing the mean across 13 patches\n",
    "plt.figure(figsize=(9,6))\n",
    "plt.plot(kappa_th_center,peak_counts_cal/262144,'b-',label='Global cal')\n",
    "plt.legend()\n",
    "plt.xticks(fontsize=18)\n",
    "plt.yticks(fontsize=18)\n",
    "plt.xlabel('kappa smooth', fontsize=18)\n",
    "plt.ylabel('peak counts', fontsize=18)\n",
    "\n",
    "plt.savefig('plots/peak_counts_cal.png', dpi=300)\n",
    "plt.show()\n",
    "\n"
   ]
  },
  {
   "cell_type": "code",
   "execution_count": null,
   "metadata": {},
   "outputs": [],
   "source": [
    "# compute snr map for cutout\n",
    "snr_cal_cutout = cutout_smoothed_cal/np.std(ndi.gaussian_filter(noise_CFIS_z05, precision_Peaks))\n",
    "\n",
    "# Compute peak counts on snr maps\n",
    "peak_counts_cal_snr, bins_cal_snr = peaks.peaks_histogram(snr_cal_cutout,kappa_snr)\n",
    "\n",
    "# Plot peak counts for SNR map\n",
    "plt.figure(figsize=(9,6))\n",
    "plt.plot(kappa_th_center_snr, peak_counts_cal_snr/262144, 'b-',label='Global cal')\n",
    "plt.legend()\n",
    "plt.xticks(fontsize=18)\n",
    "plt.yticks(fontsize=18)\n",
    "plt.xlabel('SNR smooth', fontsize=18)\n",
    "plt.ylabel('peak counts', fontsize=18)\n",
    "\n",
    "plt.savefig('plots/peak_counts_cal_snr.png', dpi=300)\n",
    "plt.show()\n"
   ]
  },
  {
   "attachments": {},
   "cell_type": "markdown",
   "metadata": {},
   "source": [
    "# *Starlet stuff*"
   ]
  },
  {
   "attachments": {},
   "cell_type": "markdown",
   "metadata": {},
   "source": [
    "### `starlet_l1norm.py`"
   ]
  },
  {
   "cell_type": "code",
   "execution_count": null,
   "metadata": {},
   "outputs": [],
   "source": [
    "from lenspack.starlet_l1norm import noise_coeff, get_l1norm_noisy"
   ]
  },
  {
   "cell_type": "code",
   "execution_count": null,
   "metadata": {},
   "outputs": [],
   "source": [
    "from lenspack.image.transforms import starlet2d\n",
    "\n",
    "mass_map = np.load('saved_mass_maps/cutout1_KS_w1.4.npy')\n",
    "nscales = 5  # Number of wavelet scales\n",
    "wavelet_map = starlet2d(mass_map, nscales)"
   ]
  },
  {
   "cell_type": "code",
   "execution_count": null,
   "metadata": {},
   "outputs": [],
   "source": [
    "wavelet_map.shape"
   ]
  },
  {
   "cell_type": "code",
   "execution_count": null,
   "metadata": {},
   "outputs": [],
   "source": [
    "wavelet_map[0].shape"
   ]
  },
  {
   "cell_type": "code",
   "execution_count": null,
   "metadata": {},
   "outputs": [],
   "source": [
    "wavelet_map[1].shape"
   ]
  },
  {
   "cell_type": "code",
   "execution_count": null,
   "metadata": {},
   "outputs": [],
   "source": [
    "plt.imshow(wavelet_map[0], cmap='inferno', vmin=-0.2, vmax=0.2)\n",
    "plt.colorbar()\n",
    "plt.show()"
   ]
  },
  {
   "cell_type": "code",
   "execution_count": null,
   "metadata": {},
   "outputs": [],
   "source": [
    "# Compute the noise coefficients\n",
    "coeff_j = noise_coeff(mass_map, nscales)"
   ]
  },
  {
   "cell_type": "code",
   "execution_count": null,
   "metadata": {},
   "outputs": [],
   "source": [
    "# Estimate the noise standard deviation of the image\n",
    "\n",
    "from astropy.stats import mad_std\n",
    "# sigma_I = np.std(mass_map)\n",
    "sigma_I = mad_std(mass_map)\n",
    "\n",
    "print(sigma_I)"
   ]
  },
  {
   "cell_type": "code",
   "execution_count": null,
   "metadata": {},
   "outputs": [],
   "source": [
    "# Compute the filtered noise standard deviation at each scale\n",
    "sigma_filt_n = coeff_j * sigma_I\n",
    "\n",
    "sigma_filt_n"
   ]
  },
  {
   "cell_type": "code",
   "execution_count": null,
   "metadata": {},
   "outputs": [],
   "source": [
    "# Compute the S/N at each scale\n",
    "snr_map = np.zeros_like(wavelet_map)\n",
    "for j in range(wavelet_map.shape[0]):\n",
    "    snr_map[j] = wavelet_map[j] / sigma_filt_n[j]"
   ]
  },
  {
   "cell_type": "code",
   "execution_count": null,
   "metadata": {},
   "outputs": [],
   "source": [
    "# Plot the S/N map\n",
    "plt.imshow(snr_map[4], cmap='inferno')\n",
    "plt.colorbar(label='S/N')\n",
    "plt.title('S/N Map at Scale ...')\n",
    "plt.xlabel('X')\n",
    "plt.ylabel('Y')\n",
    "plt.show()"
   ]
  },
  {
   "cell_type": "code",
   "execution_count": null,
   "metadata": {},
   "outputs": [],
   "source": [
    "import matplotlib.pyplot as plt\n",
    "\n",
    "# Create a grid of subplots\n",
    "fig, axes = plt.subplots(nrows=2, ncols=3, figsize=(12, 8))\n",
    "\n",
    "# Plot each scale in a subplot\n",
    "for scale, ax in zip(range(len(snr_map)), axes.flat):\n",
    "    ax.imshow(snr_map[scale], cmap='inferno')\n",
    "    ax.set_title(f'Scale {scale}')\n",
    "    ax.set_xlabel('X')\n",
    "    ax.set_ylabel('Y')\n",
    "    ax.set_aspect('equal')  # Ensure equal aspect ratio for each subplot\n",
    "\n",
    "# Adjust spacing between subplots\n",
    "plt.tight_layout()\n",
    "\n",
    "# Add a colorbar\n",
    "cbar = fig.colorbar(ax.get_images()[0], ax=axes.ravel().tolist(), label='S/N')\n",
    "\n",
    "plt.show()\n"
   ]
  },
  {
   "cell_type": "code",
   "execution_count": null,
   "metadata": {},
   "outputs": [],
   "source": [
    "import matplotlib.pyplot as plt\n",
    "from mpl_toolkits.axes_grid1 import make_axes_locatable\n",
    "\n",
    "# Create a grid of subplots\n",
    "fig, axes = plt.subplots(nrows=2, ncols=3, figsize=(12, 8))\n",
    "\n",
    "# Plot each scale in a subplot\n",
    "for scale, ax in zip(range(len(snr_map)), axes.flat):\n",
    "    im = ax.imshow(snr_map[scale], cmap='inferno')\n",
    "    ax.set_title(f'Scale {scale}')\n",
    "    ax.set_xlabel('X')\n",
    "    ax.set_ylabel('Y')\n",
    "    ax.set_aspect('equal')  # Ensure equal aspect ratio for each subplot\n",
    "\n",
    "    # Create a separate colorbar for each subplot\n",
    "    divider = make_axes_locatable(ax)\n",
    "    cax = divider.append_axes(\"right\", size=\"5%\", pad=0.05)\n",
    "    cbar = plt.colorbar(im, cax=cax)\n",
    "    cbar.set_label('S/N')\n",
    "\n",
    "# Adjust spacing between subplots\n",
    "plt.tight_layout()\n",
    "\n",
    "plt.show()\n"
   ]
  },
  {
   "cell_type": "code",
   "execution_count": null,
   "metadata": {},
   "outputs": [],
   "source": [
    "import lenspack.peaks as peaks\n",
    "\n",
    "# compute peak counts on snr maps - this will look like input to likelihood code\n",
    "kappa_snr = np.linspace(-2,6,31)\n",
    "kappa_th_center_snr = 0.5*(kappa_snr[:-1]+kappa_snr[1:])\n",
    "\n",
    "\n",
    "# # Iterate over each scale\n",
    "# for scale in range(len(snr_map)):\n",
    "#     # Detect peaks in the S/N map at the current scale\n",
    "#     peak_counts, bins = peaks.peaks_histogram(snr_map[scale], kappa_snr)\n",
    "\n",
    "# Count peaks for each scale using list comprehension\n",
    "peak_counts = [peaks.peaks_histogram(snr_map[scale], kappa_snr)[0] for scale in range(len(snr_map))]\n",
    "\n",
    "# Optional: Collect bins for each scale\n",
    "bins = [peaks.peaks_histogram(snr_map[scale], kappa_snr)[1] for scale in range(len(snr_map))]\n",
    "    "
   ]
  },
  {
   "cell_type": "code",
   "execution_count": null,
   "metadata": {},
   "outputs": [],
   "source": [
    "# Plot peak counts for each scale\n",
    "for scale in range(len(peak_counts)):\n",
    "    plt.plot(kappa_th_center_snr, peak_counts[scale], label=f'scale {scale}')\n",
    "\n",
    "plt.legend()\n",
    "plt.yscale('log')\n",
    "plt.xticks(fontsize=18)\n",
    "plt.yticks(fontsize=18)\n",
    "plt.xlabel('SNR smooth', fontsize=18)\n",
    "plt.ylabel('Peak Counts', fontsize=18)\n",
    "plt.grid(True)\n",
    "plt.ylim(1e-4, 1e4)\n",
    "plt.show()\n"
   ]
  },
  {
   "cell_type": "markdown",
   "metadata": {},
   "source": [
    "### **$\\ell_1$-norm** of the starlet coefficients"
   ]
  },
  {
   "cell_type": "code",
   "execution_count": null,
   "metadata": {},
   "outputs": [],
   "source": [
    "noise = np.zeros_like(mass_map)\n",
    "nbins = 31\n",
    "bins_snr, starlet_l1norm = get_l1norm_noisy(mass_map, noise, nscales, nbins)"
   ]
  },
  {
   "cell_type": "code",
   "execution_count": null,
   "metadata": {},
   "outputs": [],
   "source": [
    "print(bins_snr.shape, starlet_l1norm.shape)"
   ]
  },
  {
   "cell_type": "code",
   "execution_count": null,
   "metadata": {},
   "outputs": [],
   "source": [
    "len(starlet_l1norm)"
   ]
  },
  {
   "cell_type": "code",
   "execution_count": null,
   "metadata": {},
   "outputs": [],
   "source": [
    "import matplotlib.pyplot as plt\n",
    "\n",
    "# Plot starlet l1-norm for each scale\n",
    "for scale in range(len(starlet_l1norm)):\n",
    "    plt.plot(bins_snr[scale], starlet_l1norm[scale], label=f'scale {scale}')\n",
    "\n",
    "plt.legend()\n",
    "plt.yscale('log')\n",
    "plt.xticks(fontsize=18)\n",
    "plt.yticks(fontsize=18)\n",
    "plt.xlabel('S/N', fontsize=18)\n",
    "plt.ylabel('Starlet l1-norm', fontsize=18)\n",
    "plt.grid(True)\n",
    "# Set appropriate ylim depending on your data\n",
    "# plt.ylim(1e-4, 1e4)\n",
    "plt.show()\n"
   ]
  },
  {
   "cell_type": "code",
   "execution_count": null,
   "metadata": {},
   "outputs": [],
   "source": [
    "import numpy as np\n",
    "import matplotlib.pyplot as plt\n",
    "\n",
    "# Assuming you have already calculated bins_snr and starlet_l1norm using the get_l1norm_noisy function\n",
    "\n",
    "# Plot starlet l1-norm for each scale\n",
    "# for scale in range(len(starlet_l1norm)):\n",
    "plt.plot(bins_snr[5], starlet_l1norm[5], label=f'scale {5}')\n",
    "\n",
    "plt.legend()\n",
    "plt.yscale('log')\n",
    "plt.xticks(fontsize=18)\n",
    "plt.yticks(fontsize=18)\n",
    "plt.xlabel('S/N', fontsize=18)\n",
    "plt.ylabel('Starlet l1-norm', fontsize=18)\n",
    "plt.grid(True)\n",
    "# plt.ylim(1e-4, 1e4)\n",
    "plt.show()\n"
   ]
  },
  {
   "attachments": {},
   "cell_type": "markdown",
   "metadata": {},
   "source": [
    "### Peak counts for all cutouts"
   ]
  },
  {
   "cell_type": "code",
   "execution_count": null,
   "metadata": {},
   "outputs": [],
   "source": [
    "import numpy as np\n",
    "from scipy import ndimage as ndi\n",
    "import lenspack.peaks as peaks\n",
    "\n",
    "# Define noise properties \n",
    "n_gal = 7  # galaxy number density in gal/arcmin^2\n",
    "pix_arcmin = 0.4  # pixel size in arcmin\n",
    "shape_noise = 0.44  # compute shape noise for CFIS\n",
    "sigma_noise_CFIS = shape_noise / (np.sqrt(2 * n_gal * pix_arcmin**2))\n",
    "\n",
    "results = []\n",
    "for i, cutout in enumerate(cutouts):\n",
    "    #7. smooth kappa map with gaussian filter\n",
    "    precision_Peaks = 2 / pix_arcmin  # Set the standard deviation of the Gaussian filter based on the pixel size of the kappa map\n",
    "\n",
    "    kappa_noisy_smoothed = ndi.gaussian_filter(cutout, precision_Peaks)  # Smooth the kappa map with a Gaussian filter\n",
    "\n",
    "    # generate noise map\n",
    "    noise = sigma_noise_CFIS * np.random.randn(512, 512)\n",
    "    snr = kappa_noisy_smoothed / np.std(ndi.gaussian_filter(noise, precision_Peaks))  # compute snr map\n",
    "\n",
    "    #8. measuring peaks\n",
    "    kappa_th = np.linspace(-0.06, 0.06, 31)\n",
    "    kappa_th_center = 0.5 * (kappa_th[:-1] + kappa_th[1:])\n",
    "\n",
    "    peak_counts, bins = peaks.peaks_histogram(kappa_noisy_smoothed, kappa_th)  # run peak counts on kappa maps\n",
    "\n",
    "    kappa_snr = np.linspace(-2, 6, 31)\n",
    "    kappa_th_center_snr = 0.5 * (kappa_snr[:-1] + kappa_snr[1:])\n",
    "\n",
    "    peak_counts_snr, bins_snr = peaks.peaks_histogram(snr, kappa_snr)  # compute peak counts on snr maps\n",
    "\n",
    "    results.append({\n",
    "        'cutout': f'cutout{i+1}',\n",
    "        'peak_counts': peak_counts,\n",
    "        'bins': bins,\n",
    "        'peak_counts_snr': peak_counts_snr,\n",
    "        'bins_snr': bins_snr\n",
    "    })\n"
   ]
  },
  {
   "cell_type": "code",
   "execution_count": null,
   "metadata": {},
   "outputs": [],
   "source": [
    "import numpy as np\n",
    "import matplotlib.pyplot as plt\n",
    "from scipy import ndimage as ndi\n",
    "import lenspack.peaks as peaks\n",
    "\n",
    "# Your cutouts\n",
    "cutouts = [cutout1, cutout2, cutout3, cutout4, cutout5, cutout6, cutout7, cutout8, cutout9, cutout10, cutout11, cutout12]\n",
    "\n",
    "# Define noise properties \n",
    "n_gal = 7  # galaxy number density in gal/arcmin^2\n",
    "pix_arcmin = 0.4  # pixel size in arcmin\n",
    "shape_noise = 0.44  # compute shape noise for CFIS\n",
    "sigma_noise_CFIS = shape_noise / (np.sqrt(2 * n_gal * pix_arcmin**2))\n",
    "\n",
    "plt.figure(figsize=(7,7))\n",
    "\n",
    "# Peak count histogram plotting for SNR\n",
    "plt.subplot(2, 1, 1)\n",
    "\n",
    "# Peak count histogram plotting for Kappa\n",
    "plt.subplot(2, 1, 2)\n",
    "\n",
    "for i, cutout in enumerate(cutouts):\n",
    "    #7. smooth kappa map with gaussian filter\n",
    "    precision_Peaks = 2 / pix_arcmin  # Set the standard deviation of the Gaussian filter based on the pixel size of the kappa map\n",
    "\n",
    "    kappa_noisy_smoothed = ndi.gaussian_filter(cutout, precision_Peaks)  # Smooth the kappa map with a Gaussian filter\n",
    "\n",
    "    # generate noise map\n",
    "    noise = sigma_noise_CFIS * np.random.randn(512, 512)\n",
    "    snr = kappa_noisy_smoothed / np.std(ndi.gaussian_filter(noise, precision_Peaks))  # compute snr map\n",
    "\n",
    "    #8. measuring peaks\n",
    "    kappa_th = np.linspace(-0.06, 0.06, 31)\n",
    "    kappa_th_center = 0.5 * (kappa_th[:-1] + kappa_th[1:])\n",
    "\n",
    "    peak_counts, bins = peaks.peaks_histogram(kappa_noisy_smoothed, kappa_th)  # run peak counts on kappa maps\n",
    "\n",
    "    kappa_snr = np.linspace(-2, 6, 31)\n",
    "    kappa_th_center_snr = 0.5 * (kappa_snr[:-1] + kappa_snr[1:])\n",
    "\n",
    "    peak_counts_snr, bins_snr = peaks.peaks_histogram(snr, kappa_snr)  # compute peak counts on snr maps\n",
    "\n",
    "    # Plot the peak counts for SNR\n",
    "    plt.subplot(2, 1, 1)\n",
    "    plt.plot(kappa_th_center_snr, peak_counts_snr, label=f'Cutout {i+1} - SNR')\n",
    "    plt.legend()\n",
    "    plt.xlabel('SNR', fontsize=18)\n",
    "    plt.ylabel('peak counts', fontsize=18)\n",
    "\n",
    "    # Plot the peak counts for Kappa\n",
    "    plt.subplot(2, 1, 2)\n",
    "    plt.plot(kappa_th_center, peak_counts, label=f'Cutout {i+1} - Kappa')\n",
    "    # plt.legend()\n",
    "    plt.xlabel('Kappa', fontsize=18)\n",
    "    plt.ylabel('peak counts', fontsize=18)\n",
    "\n",
    "plt.tight_layout()\n",
    "# plt.savefig('plots/peak_counts.png', dpi=300)\n",
    "# save figure as pdf\n",
    "plt.savefig('figures/peak_counts_for_each_cutout.pdf')\n",
    "plt.show()\n"
   ]
  },
  {
   "cell_type": "code",
   "execution_count": null,
   "metadata": {},
   "outputs": [],
   "source": [
    "import numpy as np\n",
    "import matplotlib.pyplot as plt\n",
    "from scipy import ndimage as ndi\n",
    "import lenspack.peaks as peaks\n",
    "\n",
    "\n",
    "# Define noise properties \n",
    "n_gal = 7  # galaxy number density in gal/arcmin^2\n",
    "pix_arcmin = 0.4  # pixel size in arcmin\n",
    "shape_noise = 0.44  # compute shape noise for CFIS\n",
    "sigma_noise_CFIS = shape_noise / (np.sqrt(2 * n_gal * pix_arcmin**2))\n",
    "\n",
    "# For storing all the peak counts\n",
    "peak_counts_all_snr = []\n",
    "peak_counts_all_kappa = []\n",
    "\n",
    "for i, cutout in enumerate(cutouts):\n",
    "    #7. smooth kappa map with gaussian filter\n",
    "    precision_Peaks = 2 / pix_arcmin  # Set the standard deviation of the Gaussian filter based on the pixel size of the kappa map\n",
    "\n",
    "    kappa_noisy_smoothed = ndi.gaussian_filter(cutout, precision_Peaks)  # Smooth the kappa map with a Gaussian filter\n",
    "\n",
    "    # generate noise map\n",
    "    noise = sigma_noise_CFIS * np.random.randn(512, 512)\n",
    "    snr = kappa_noisy_smoothed / np.std(ndi.gaussian_filter(noise, precision_Peaks))  # compute snr map\n",
    "\n",
    "    #8. measuring peaks\n",
    "    kappa_th = np.linspace(-0.06, 0.06, 31)\n",
    "    kappa_th_center = 0.5 * (kappa_th[:-1] + kappa_th[1:])\n",
    "\n",
    "    peak_counts, bins = peaks.peaks_histogram(kappa_noisy_smoothed, kappa_th)  # run peak counts on kappa maps\n",
    "\n",
    "    kappa_snr = np.linspace(-2, 6, 31)\n",
    "    kappa_th_center_snr = 0.5 * (kappa_snr[:-1] + kappa_snr[1:])\n",
    "\n",
    "    peak_counts_snr, bins_snr = peaks.peaks_histogram(snr, kappa_snr)  # compute peak counts on snr maps\n",
    "\n",
    "    # Add the peak counts to the lists\n",
    "    peak_counts_all_snr.append(peak_counts_snr)\n",
    "    peak_counts_all_kappa.append(peak_counts)\n",
    "\n",
    "# Convert lists to numpy arrays for easier manipulation\n",
    "peak_counts_all_snr = np.array(peak_counts_all_snr)\n",
    "peak_counts_all_kappa = np.array(peak_counts_all_kappa)\n",
    "\n",
    "# Calculate average peak counts\n",
    "avg_peak_counts_snr = np.mean(peak_counts_all_snr, axis=0)\n",
    "avg_peak_counts_kappa = np.mean(peak_counts_all_kappa, axis=0)\n",
    "\n",
    "# Plotting\n",
    "# plt.figure(figsize=(7,8))\n",
    "\n",
    "# Peak count histogram plotting for SNR\n",
    "# plt.subplot(2, 1, 1)\n",
    "plt.plot(kappa_th_center_snr, avg_peak_counts_snr, 'r-', label='Average SNR')\n",
    "plt.legend()\n",
    "plt.xlabel('SNR', fontsize=18)\n",
    "plt.ylabel('peak counts', fontsize=18)\n",
    "plt.savefig('figures/average_peak_counts_snr.pdf')\n",
    "plt.show()\n",
    "\n",
    "# Peak count histogram plotting for Kappa\n",
    "# plt.subplot(2, 1, 2)\n",
    "plt.plot(kappa_th_center, avg_peak_counts_kappa, 'b-', label='Average Kappa')\n",
    "plt.legend()\n",
    "plt.xlabel('Kappa', fontsize=18)\n",
    "plt.ylabel('peak counts', fontsize=18)\n",
    "\n",
    "plt.tight_layout()\n",
    "\n",
    "# save as pdf\n",
    "plt.savefig('figures/average_peak_counts_kappa.pdf')\n",
    "plt.show()\n"
   ]
  },
  {
   "cell_type": "code",
   "execution_count": null,
   "metadata": {},
   "outputs": [],
   "source": [
    "kappa_th_center_snr\n",
    "np.save('kappa_th_center_snr.npy', kappa_th_center_snr)"
   ]
  },
  {
   "cell_type": "code",
   "execution_count": null,
   "metadata": {},
   "outputs": [],
   "source": [
    "# save the peak counts as numpy array\n",
    "np.save('avg_peak_counts_snr.npy', avg_peak_counts_snr)"
   ]
  },
  {
   "attachments": {},
   "cell_type": "markdown",
   "metadata": {},
   "source": [
    "SNR map of the 1st cutout"
   ]
  },
  {
   "cell_type": "code",
   "execution_count": null,
   "metadata": {},
   "outputs": [],
   "source": [
    "import matplotlib.pyplot as plt\n",
    "from scipy import ndimage as ndi\n",
    "\n",
    "# Assuming the first cutout is already prepared as per your previous steps\n",
    "\n",
    "cutout = cutouts[0]  # first cutout\n",
    "\n",
    "#7. smooth kappa map with gaussian filter\n",
    "precision_Peaks = 2 / pix_arcmin  # Set the standard deviation of the Gaussian filter based on the pixel size of the kappa map\n",
    "kappa_noisy_smoothed = ndi.gaussian_filter(cutout, precision_Peaks)  # Smooth the kappa map with a Gaussian filter\n",
    "\n",
    "# generate noise map\n",
    "noise = sigma_noise_CFIS * np.random.randn(512, 512)\n",
    "snr = kappa_noisy_smoothed / np.std(ndi.gaussian_filter(noise, precision_Peaks))  # compute snr map\n",
    "\n",
    "# Create a new figure and set the size\n",
    "plt.figure(figsize=(7, 6))\n",
    "\n",
    "# Create a colormap of the SNR\n",
    "plt.imshow(snr, cmap='inferno', vmin=-4.2, vmax=4.2)\n",
    "# plt.title('SNR map', fontsize=18)\n",
    "\n",
    "# Add a colorbar\n",
    "plt.colorbar(label='SNR')\n",
    "# tight layout\n",
    "plt.tight_layout()\n",
    "\n",
    "#save figure as pdf\n",
    "plt.savefig('figures/snr_map_for_first_cutout.pdf')\n",
    "plt.show()\n"
   ]
  },
  {
   "attachments": {},
   "cell_type": "markdown",
   "metadata": {},
   "source": [
    "# Try other mass maps"
   ]
  },
  {
   "cell_type": "code",
   "execution_count": null,
   "metadata": {},
   "outputs": [],
   "source": [
    "from lenspack.utils import bin2d\n",
    "from lenspack.image.inversion import ks93\n",
    "from lenspack.geometry.projections import gnom\n",
    "from pycs.astro.wl.mass_mapping import *\n",
    "# import footprint\n",
    "# from footprint import draw_footprint\n",
    "from pycs.misc.im_isospec import *\n",
    "import sys  "
   ]
  },
  {
   "cell_type": "code",
   "execution_count": null,
   "metadata": {},
   "outputs": [],
   "source": [
    "galmap = bin2d(x, y, npix=(Nx,Ny))"
   ]
  },
  {
   "cell_type": "code",
   "execution_count": null,
   "metadata": {},
   "outputs": [],
   "source": [
    "galmap.shape"
   ]
  },
  {
   "cell_type": "code",
   "execution_count": null,
   "metadata": {},
   "outputs": [],
   "source": [
    "# save galmap as txt file\n",
    "np.savetxt('galmap.txt', galmap, fmt='%d')"
   ]
  },
  {
   "cell_type": "code",
   "execution_count": null,
   "metadata": {},
   "outputs": [],
   "source": [
    "import matplotlib.pyplot as plt\n",
    "\n",
    "# Create the plot\n",
    "plt.figure(figsize=(12,4))\n",
    "\n",
    "# Display the 2D array as an image\n",
    "plt.imshow(galmap, cmap='inferno', interpolation='nearest', origin='lower')\n",
    "\n",
    "\n",
    "\n",
    "# Add a colorbar\n",
    "plt.colorbar(label='Number of galaxies')\n",
    "\n",
    "# Add title and labels\n",
    "# plt.title('Galaxy count per pixel')\n",
    "plt.xlabel('Pixel x')\n",
    "plt.ylabel('Pixel y')\n",
    "plt.gca().invert_xaxis()\n",
    "\n",
    "#save the plot as pdf \n",
    "plt.savefig('figures/galmap.pdf')\n",
    "\n",
    "plt.show()"
   ]
  },
  {
   "cell_type": "code",
   "execution_count": null,
   "metadata": {},
   "outputs": [],
   "source": [
    "dd.close()\n",
    "del dd"
   ]
  },
  {
   "cell_type": "code",
   "execution_count": null,
   "metadata": {},
   "outputs": [],
   "source": [
    "e1map, e2map = bin2d(x, y, npix=(Nx,Ny), v=(g1,g2))"
   ]
  },
  {
   "cell_type": "code",
   "execution_count": null,
   "metadata": {},
   "outputs": [],
   "source": [
    "e2map.shape"
   ]
  },
  {
   "cell_type": "code",
   "execution_count": null,
   "metadata": {},
   "outputs": [],
   "source": [
    "galmap.shape"
   ]
  },
  {
   "attachments": {},
   "cell_type": "markdown",
   "metadata": {},
   "source": [
    "### ! Not square ! --> works only for KS"
   ]
  },
  {
   "cell_type": "code",
   "execution_count": null,
   "metadata": {},
   "outputs": [],
   "source": [
    "# Create the shear python structure and initialize it with the data\n",
    "D = shear_data()\n",
    "D.g1 = e1map\n",
    "D.g2 = e2map\n",
    "SigmaNoise=0.29\n",
    "(ny,nx) = e1map.shape # assume a diagonal cov mat\n",
    "\n",
    "ind = np.where(galmap > 0)\n",
    "D.mask = np.zeros((ny,nx))\n",
    "D.mask[ind] = 1\n",
    "print(D.mask.shape)\n",
    "\n",
    "# Create the covariance matrix, assumed to be diagonal\n",
    "Ncov = np.zeros((ny,nx))\n",
    "Ncov[ind] = 2. * SigmaNoise**2 / galmap[ind]\n",
    "Ncov[Ncov==0] = 1e9 # set to large value to avoid numerical problems\n",
    "\n",
    "D.Ncov = Ncov\n",
    "D.nx = nx\n",
    "D.ny = ny\n",
    "\n",
    "# Create the mass mapping structure and initialise it\n",
    "M = massmap2d(name='mass')\n",
    "M.init_massmap(D.nx,D.ny)  \n",
    "M.DEF_niter=100\n",
    "Inpaint=False\n",
    "Bmode=True\n",
    "g1=D.g1\n",
    "g2=D.g2"
   ]
  },
  {
   "cell_type": "code",
   "execution_count": null,
   "metadata": {},
   "outputs": [],
   "source": [
    "ks =  M.g2k(g1,g2)"
   ]
  },
  {
   "cell_type": "code",
   "execution_count": null,
   "metadata": {},
   "outputs": [],
   "source": [
    "from mpl_toolkits.axes_grid1 import make_axes_locatable\n",
    "# 194.82476084451298 230.31501800287484 47.74981547830552 63.74989899311319\n",
    "# Plot peak positions over the convergence\n",
    "fig, ax = plt.subplots(1, 1, figsize=(12, 6))\n",
    "mappable = ax.imshow(ks*D.mask, cmap='inferno', vmin=-0.15, vmax=0.15)\n",
    "# ax.scatter(y, x, s=10, c='orange')  # reverse x and y due to array indexing\n",
    "\n",
    "loc, labels = plt.xticks()\n",
    "n_ticks_x = 6\n",
    "plt.xticks(np.arange(loc[1], loc[-1], (loc[-1]-loc[1])/n_ticks_x), labels=np.round(np.arange(194.82476084451298, 230.31501800287484, step=(230.31501800287484-194.82476084451298)/n_ticks_x), 1))\n",
    "loc, labels = plt.yticks()\n",
    "n_ticks_y = 6\n",
    "plt.yticks(np.arange(loc[1], loc[-1], (loc[-1]-loc[1])/n_ticks_y), labels=np.round(np.arange(47.74981547830552, 63.74989899311319, step=(63.74989899311319-47.74981547830552)/n_ticks_x), 1))\n",
    "plt.gca().invert_yaxis()\n",
    "plt.gca().invert_xaxis()\n",
    "plt.xlabel('Ra (deg)')\n",
    "plt.ylabel('Dec (deg)')\n",
    "# plt.title('$\\kappa_{E}$')\n",
    "divider = make_axes_locatable(plt.gca())\n",
    "cax = divider.append_axes(\"right\", size=\"5%\", pad=0.2)\n",
    "\n",
    "cbar = plt.colorbar(mappable, cax=cax)\n",
    "# ax.set_xlim(ax.get_xlim()[::-1])\n",
    "# fig.colorbar(mappable)\n",
    "#save figure as pdf\n",
    "plt.savefig('figures/Kaiser_Squires_kappa.pdf', bbox_inches='tight')\n",
    "plt.show()"
   ]
  },
  {
   "cell_type": "code",
   "execution_count": null,
   "metadata": {},
   "outputs": [],
   "source": [
    "ks2 = M.smooth(ks, sigma=2)\n",
    "from mpl_toolkits.axes_grid1 import make_axes_locatable\n",
    "# 194.82476084451298 230.31501800287484 47.74981547830552 63.74989899311319\n",
    "# Plot peak positions over the convergence\n",
    "fig, ax = plt.subplots(1, 1, figsize=(12, 6))\n",
    "mappable = ax.imshow(ks2*D.mask, cmap='inferno', vmin=-0.1, vmax=0.1)\n",
    "# ax.scatter(y, x, s=10, c='orange')  # reverse x and y due to array indexing\n",
    "\n",
    "loc, labels = plt.xticks()\n",
    "n_ticks_x = 6\n",
    "plt.xticks(np.arange(loc[1], loc[-1], (loc[-1]-loc[1])/n_ticks_x), labels=np.round(np.arange(194.82476084451298, 230.31501800287484, step=(230.31501800287484-194.82476084451298)/n_ticks_x), 1))\n",
    "loc, labels = plt.yticks()\n",
    "n_ticks_y = 6\n",
    "plt.yticks(np.arange(loc[1], loc[-1], (loc[-1]-loc[1])/n_ticks_y), labels=np.round(np.arange(47.74981547830552, 63.74989899311319, step=(63.74989899311319-47.74981547830552)/n_ticks_x), 1))\n",
    "plt.gca().invert_yaxis()\n",
    "plt.gca().invert_xaxis()\n",
    "plt.xlabel('Ra (deg)')\n",
    "plt.ylabel('Dec (deg)')\n",
    "# plt.title('$\\kappa_{E}$')\n",
    "divider = make_axes_locatable(plt.gca())\n",
    "cax = divider.append_axes(\"right\", size=\"5%\", pad=0.2)\n",
    "\n",
    "cbar = plt.colorbar(mappable, cax=cax)\n",
    "# ax.set_xlim(ax.get_xlim()[::-1])\n",
    "# fig.colorbar(mappable)\n",
    "#save figure as pdf\n",
    "plt.savefig('figures/Kaiser_Squires_Smooth_kappa.pdf', bbox_inches='tight')\n",
    "plt.show()"
   ]
  },
  {
   "attachments": {},
   "cell_type": "markdown",
   "metadata": {},
   "source": [
    "# Square massmap"
   ]
  },
  {
   "attachments": {},
   "cell_type": "markdown",
   "metadata": {},
   "source": [
    "### Padding"
   ]
  },
  {
   "cell_type": "code",
   "execution_count": null,
   "metadata": {},
   "outputs": [],
   "source": [
    "# Calculate the amount of padding needed\n",
    "pad_size = Nx - Ny"
   ]
  },
  {
   "cell_type": "code",
   "execution_count": null,
   "metadata": {},
   "outputs": [],
   "source": [
    "import numpy as np\n",
    "\n",
    "# Calculate the amount of padding needed\n",
    "pad_size = Nx - Ny\n",
    "\n",
    "# If Nx > Ny, pad the first axis of the arrays\n",
    "if pad_size > 0:\n",
    "    # Half the padding goes at the top, the rest at the bottom\n",
    "    pad_top = pad_size // 2\n",
    "    pad_bottom = pad_size - pad_top\n",
    "    e1map_padded = np.pad(e1map, ((pad_top, pad_bottom), (0, 0)))\n",
    "    e2map_padded = np.pad(e2map, ((pad_top, pad_bottom), (0, 0)))\n",
    "\n",
    "# If Nx < Ny, pad the second axis of the arrays\n",
    "elif pad_size < 0:\n",
    "    # Half the padding goes at the left, the rest at the right\n",
    "    pad_left = -pad_size // 2\n",
    "    pad_right = -pad_size - pad_left\n",
    "    e1map_padded = np.pad(e1map, ((0, 0), (pad_left, pad_right)))\n",
    "    e2map_padded = np.pad(e2map, ((0, 0), (pad_left, pad_right)))\n",
    "\n",
    "# If Nx = Ny, no padding needed\n",
    "else:\n",
    "    e1map_padded = e1map\n",
    "    e2map_padded = e2map\n"
   ]
  },
  {
   "cell_type": "code",
   "execution_count": null,
   "metadata": {},
   "outputs": [],
   "source": [
    "e1map_padded.shape"
   ]
  },
  {
   "cell_type": "code",
   "execution_count": null,
   "metadata": {},
   "outputs": [],
   "source": [
    "import numpy as np\n",
    "\n",
    "# Calculate the amount of padding needed\n",
    "pad_size = Nx - Ny\n",
    "\n",
    "# If Nx > Ny, pad the first axis of the arrays\n",
    "if pad_size > 0:\n",
    "    # Half the padding goes at the top, the rest at the bottom\n",
    "    pad_top = pad_size // 2\n",
    "    pad_bottom = pad_size - pad_top\n",
    "    galmap_padded = np.pad(galmap, ((pad_top, pad_bottom), (0, 0)))\n",
    "   \n",
    "\n",
    "# If Nx < Ny, pad the second axis of the arrays\n",
    "elif pad_size < 0:\n",
    "    # Half the padding goes at the left, the rest at the right\n",
    "    pad_left = -pad_size // 2\n",
    "    pad_right = -pad_size - pad_left\n",
    "    galmap_padded = np.pad(galmap, ((0, 0), (pad_left, pad_right)))\n",
    "    \n",
    "# If Nx = Ny, no padding needed\n",
    "else:\n",
    "    galmap_padded = galmap\n"
   ]
  },
  {
   "cell_type": "code",
   "execution_count": null,
   "metadata": {},
   "outputs": [],
   "source": [
    "galmap_padded.shape"
   ]
  },
  {
   "cell_type": "code",
   "execution_count": null,
   "metadata": {},
   "outputs": [],
   "source": [
    "import matplotlib.pyplot as plt\n",
    "\n",
    "# Create the plot\n",
    "plt.figure(figsize=(15,6))\n",
    "\n",
    "# Display the 2D array as an image\n",
    "plt.imshow(galmap_padded, cmap='inferno', interpolation='nearest', origin='lower')\n",
    "\n",
    "# Add a colorbar\n",
    "plt.colorbar(label='Number of galaxies')\n",
    "\n",
    "# Add title and labels\n",
    "plt.title('Galaxy count per pixel')\n",
    "plt.xlabel('Pixel x')\n",
    "plt.ylabel('Pixel y')\n",
    "\n",
    "plt.show()"
   ]
  },
  {
   "attachments": {},
   "cell_type": "markdown",
   "metadata": {},
   "source": [
    "### Define object"
   ]
  },
  {
   "cell_type": "code",
   "execution_count": null,
   "metadata": {},
   "outputs": [],
   "source": [
    "# Create the shear python structure and initialize it with the data\n",
    "D = shear_data()\n",
    "D.g1 = e1map_padded\n",
    "D.g2 = e2map_padded\n",
    "SigmaNoise=0.29\n",
    "(ny,nx) = e1map_padded.shape # assume a diagonal cov mat\n",
    "\n",
    "ind = np.where(galmap_padded > 0)\n",
    "D.mask = np.zeros((ny,nx))\n",
    "D.mask[ind] = 1\n",
    "print(D.mask.shape)\n",
    "\n",
    "# Create the covariance matrix, assumed to be diagonal\n",
    "Ncov = np.zeros((ny,nx))\n",
    "Ncov[ind] = 2. * SigmaNoise**2 / galmap_padded[ind]\n",
    "Ncov[Ncov==0] = 1e9 # set to large value to avoid numerical problems\n",
    "\n",
    "D.Ncov = Ncov\n",
    "D.nx = nx\n",
    "D.ny = ny\n",
    "\n",
    "# Create the mass mapping structure and initialise it\n",
    "M = massmap2d(name='mass')\n",
    "M.init_massmap(D.nx,D.ny)  \n",
    "M.DEF_niter=100\n",
    "Inpaint=False\n",
    "Bmode=True\n",
    "g1=D.g1\n",
    "g2=D.g2"
   ]
  },
  {
   "cell_type": "code",
   "execution_count": null,
   "metadata": {},
   "outputs": [],
   "source": [
    "ks =  M.g2k(g1,g2)"
   ]
  },
  {
   "cell_type": "code",
   "execution_count": null,
   "metadata": {},
   "outputs": [],
   "source": [
    "# Plot peak positions over the convergence\n",
    "fig, ax = plt.subplots(1, 1, figsize=(20, 7))\n",
    "mappable = ax.imshow(ks*D.mask, cmap='inferno', vmin=-0.1, vmax=0.1, origin='lower')\n",
    "# ax.scatter(y, x, s=10, c='orange')  # reverse x and y due to array indexing\n",
    "# ax.set_axis_off()\n",
    "# Reversing x-axis\n",
    "ax.set_xlim(ax.get_xlim()[::-1])\n",
    "fig.colorbar(mappable)\n",
    "plt.show()"
   ]
  },
  {
   "cell_type": "code",
   "execution_count": null,
   "metadata": {},
   "outputs": [],
   "source": [
    "ksr4,ti = M.sparse_recons(D, UseNoiseRea=False, Nsigma=4, niter=20, ThresCoarse=False, Inpaint=False,Nrea=None)"
   ]
  },
  {
   "cell_type": "code",
   "execution_count": null,
   "metadata": {},
   "outputs": [],
   "source": [
    "# Plot peak positions over the convergence\n",
    "fig, ax = plt.subplots(1, 1, figsize=(20, 7))\n",
    "mappable = ax.imshow(ksr4*D.mask, cmap='inferno', vmin=-0.01, vmax=0.01, origin='lower')\n",
    "# ax.scatter(y, x, s=10, c='orange')  # reverse x and y due to array indexing\n",
    "# ax.set_axis_off()\n",
    "# Reversing x-axis\n",
    "ax.set_xlim(ax.get_xlim()[::-1])\n",
    "fig.colorbar(mappable)\n",
    "plt.show()"
   ]
  },
  {
   "cell_type": "code",
   "execution_count": null,
   "metadata": {},
   "outputs": [],
   "source": [
    "ksr4.shape"
   ]
  },
  {
   "cell_type": "code",
   "execution_count": null,
   "metadata": {},
   "outputs": [],
   "source": []
  },
  {
   "attachments": {},
   "cell_type": "markdown",
   "metadata": {},
   "source": [
    "### Interpolation for peak counts"
   ]
  },
  {
   "cell_type": "code",
   "execution_count": null,
   "metadata": {},
   "outputs": [],
   "source": [
    "# Assume size_x_padded_deg and size_y_padded_deg are the sizes of the padded field in degrees\n",
    "size_x_padded_deg = 36  # adjust these as per your actual sizes\n",
    "size_y_padded_deg = 36  # adjust these as per your actual sizes\n",
    "\n",
    "# Define your original grid size and coordinates\n",
    "original_pixel_size = 1.5  # arcmin\n",
    "original_grid_size = original_pixel_size / 60  # convert to degrees\n",
    "original_x = np.linspace(0, size_x_padded_deg, ksr4.shape[1])  # adjusted to match the shape of ksr4\n",
    "original_y = np.linspace(0, size_y_padded_deg, ksr4.shape[0])  # adjusted to match the shape of ksr4\n",
    "\n",
    "# Interpolation function\n",
    "interp_func = RectBivariateSpline(original_y, original_x, ksr4)\n",
    "interp_func_mask = RectBivariateSpline(original_y, original_x, D.mask)\n",
    "\n",
    "# Define your new grid size and coordinates\n",
    "new_pixel_size = 0.4  # arcmin\n",
    "new_grid_size = new_pixel_size / 60  # convert to degrees\n",
    "new_x = np.linspace(0, size_x_padded_deg, int(size_x_padded_deg/new_grid_size))  # new array for finer grid\n",
    "new_y = np.linspace(0, size_y_padded_deg, int(size_y_padded_deg/new_grid_size))  # new array for finer grid\n",
    "\n",
    "# Compute the interpolated map\n",
    "new_kappaE = interp_func(new_y, new_x)\n",
    "new_mask = interp_func_mask(new_y, new_x)\n"
   ]
  },
  {
   "cell_type": "code",
   "execution_count": null,
   "metadata": {},
   "outputs": [],
   "source": [
    "from mpl_toolkits.axes_grid1 import make_axes_locatable\n",
    "# 194.82476084451298 230.31501800287484 47.74981547830552 63.74989899311319\n",
    "# Plot peak positions over the convergence\n",
    "fig, ax = plt.subplots(1, 1, figsize=(12, 6))\n",
    "mappable = ax.imshow(new_kappaE[1500:3900, :]*new_mask[1500:3900,:], cmap='inferno', vmin=-0.01, vmax=0.01)\n",
    "# ax.scatter(y, x, s=10, c='orange')  # reverse x and y due to array indexing\n",
    "\n",
    "loc, labels = plt.xticks()\n",
    "n_ticks_x = 6\n",
    "plt.xticks(np.arange(loc[1], loc[-1], (loc[-1]-loc[1])/n_ticks_x), labels=np.round(np.arange(194.82476084451298, 230.31501800287484, step=(230.31501800287484-194.82476084451298)/n_ticks_x), 1))\n",
    "loc, labels = plt.yticks()\n",
    "n_ticks_y = 6\n",
    "plt.yticks(np.arange(loc[1], loc[-1], (loc[-1]-loc[1])/n_ticks_y), labels=np.round(np.arange(47.74981547830552, 63.74989899311319, step=(63.74989899311319-47.74981547830552)/n_ticks_x), 1))\n",
    "plt.gca().invert_yaxis()\n",
    "plt.gca().invert_xaxis()\n",
    "plt.xlabel('Ra (deg)')\n",
    "plt.ylabel('Dec (deg)')\n",
    "# plt.title('$\\kappa_{E}$')\n",
    "divider = make_axes_locatable(plt.gca())\n",
    "cax = divider.append_axes(\"right\", size=\"5%\", pad=0.2)\n",
    "\n",
    "cbar = plt.colorbar(mappable, cax=cax)\n",
    "# ax.set_xlim(ax.get_xlim()[::-1])\n",
    "# fig.colorbar(mappable)\n",
    "#save figure as pdf\n",
    "plt.savefig('figures/sparsity_4_kappa.pdf', bbox_inches='tight')\n",
    "plt.show()"
   ]
  },
  {
   "attachments": {},
   "cell_type": "markdown",
   "metadata": {},
   "source": [
    "Sparse reconstruction with ThresCoarse=True"
   ]
  },
  {
   "cell_type": "code",
   "execution_count": null,
   "metadata": {},
   "outputs": [],
   "source": [
    "ksr4_ThC,ti_ThC = M.sparse_recons(D, UseNoiseRea=False, Nsigma=4, niter=20, ThresCoarse=True, Inpaint=False,Nrea=None)"
   ]
  },
  {
   "cell_type": "code",
   "execution_count": null,
   "metadata": {},
   "outputs": [],
   "source": [
    "from mpl_toolkits.axes_grid1 import make_axes_locatable\n",
    "# 194.82476084451298 230.31501800287484 47.74981547830552 63.74989899311319\n",
    "# Plot peak positions over the convergence\n",
    "fig, ax = plt.subplots(1, 1, figsize=(12, 6))\n",
    "mappable = ax.imshow(ksr4_ThC[400:1040,:]*D.mask[400:1040,:], cmap='inferno', vmin=-0.01, vmax=0.01)\n",
    "# ax.scatter(y, x, s=10, c='orange')  # reverse x and y due to array indexing\n",
    "\n",
    "loc, labels = plt.xticks()\n",
    "n_ticks_x = 6\n",
    "plt.xticks(np.arange(loc[1], loc[-1], (loc[-1]-loc[1])/n_ticks_x), labels=np.round(np.arange(194.82476084451298, 230.31501800287484, step=(230.31501800287484-194.82476084451298)/n_ticks_x), 1))\n",
    "loc, labels = plt.yticks()\n",
    "n_ticks_y = 6\n",
    "plt.yticks(np.arange(loc[1], loc[-1], (loc[-1]-loc[1])/n_ticks_y), labels=np.round(np.arange(47.74981547830552, 63.74989899311319, step=(63.74989899311319-47.74981547830552)/n_ticks_x), 1))\n",
    "plt.gca().invert_yaxis()\n",
    "plt.gca().invert_xaxis()\n",
    "plt.xlabel('Ra (deg)')\n",
    "plt.ylabel('Dec (deg)')\n",
    "# plt.title('$\\kappa_{E}$')\n",
    "divider = make_axes_locatable(plt.gca())\n",
    "cax = divider.append_axes(\"right\", size=\"5%\", pad=0.2)\n",
    "\n",
    "cbar = plt.colorbar(mappable, cax=cax)\n",
    "# ax.set_xlim(ax.get_xlim()[::-1])\n",
    "# fig.colorbar(mappable)\n",
    "#save figure as pdf\n",
    "plt.savefig('figures/sparsity_4_ThresCoarseTrue_kappa.pdf', bbox_inches='tight')\n",
    "plt.show()"
   ]
  },
  {
   "attachments": {},
   "cell_type": "markdown",
   "metadata": {},
   "source": [
    "Sparse with 5sigma"
   ]
  },
  {
   "cell_type": "code",
   "execution_count": null,
   "metadata": {},
   "outputs": [],
   "source": [
    "ksr5,ti = M.sparse_recons(D, UseNoiseRea=False, Nsigma=5, niter=20, ThresCoarse=False, Inpaint=False,Nrea=None)"
   ]
  },
  {
   "cell_type": "code",
   "execution_count": null,
   "metadata": {},
   "outputs": [],
   "source": [
    "# Plot peak positions over the convergence\n",
    "fig, ax = plt.subplots(1, 1, figsize=(20, 7))\n",
    "mappable = ax.imshow(ksr5[400:1040,:]*D.mask[400:1040,:], cmap='inferno', vmin=-0.007, vmax=0.007, origin='lower')\n",
    "# ax.scatter(y, x, s=10, c='orange')  # reverse x and y due to array indexing\n",
    "# ax.set_axis_off()\n",
    "# Reversing x-axis\n",
    "ax.set_xlim(ax.get_xlim()[::-1])\n",
    "fig.colorbar(mappable)\n",
    "plt.show()"
   ]
  },
  {
   "cell_type": "code",
   "execution_count": null,
   "metadata": {},
   "outputs": [],
   "source": [
    "from mpl_toolkits.axes_grid1 import make_axes_locatable\n",
    "# 194.82476084451298 230.31501800287484 47.74981547830552 63.74989899311319\n",
    "# Plot peak positions over the convergence\n",
    "fig, ax = plt.subplots(1, 1, figsize=(12, 6))\n",
    "mappable = ax.imshow(ksr5[400:1040,:]*D.mask[400:1040,:], cmap='inferno', vmin=-0.007, vmax=0.007)\n",
    "# ax.scatter(y, x, s=10, c='orange')  # reverse x and y due to array indexing\n",
    "\n",
    "loc, labels = plt.xticks()\n",
    "n_ticks_x = 6\n",
    "plt.xticks(np.arange(loc[1], loc[-1], (loc[-1]-loc[1])/n_ticks_x), labels=np.round(np.arange(194.82476084451298, 230.31501800287484, step=(230.31501800287484-194.82476084451298)/n_ticks_x), 1))\n",
    "loc, labels = plt.yticks()\n",
    "n_ticks_y = 6\n",
    "plt.yticks(np.arange(loc[1], loc[-1], (loc[-1]-loc[1])/n_ticks_y), labels=np.round(np.arange(47.74981547830552, 63.74989899311319, step=(63.74989899311319-47.74981547830552)/n_ticks_x), 1))\n",
    "plt.gca().invert_yaxis()\n",
    "plt.gca().invert_xaxis()\n",
    "plt.xlabel('Ra (deg)')\n",
    "plt.ylabel('Dec (deg)')\n",
    "# plt.title('$\\kappa_{E}$')\n",
    "divider = make_axes_locatable(plt.gca())\n",
    "cax = divider.append_axes(\"right\", size=\"5%\", pad=0.2)\n",
    "\n",
    "cbar = plt.colorbar(mappable, cax=cax)\n",
    "# ax.set_xlim(ax.get_xlim()[::-1])\n",
    "# fig.colorbar(mappable)\n",
    "#save figure as pdf\n",
    "plt.savefig('figures/sparsity_5_kappa.pdf', bbox_inches='tight')\n",
    "plt.show()"
   ]
  },
  {
   "attachments": {},
   "cell_type": "markdown",
   "metadata": {},
   "source": [
    "Wiener"
   ]
  },
  {
   "cell_type": "code",
   "execution_count": null,
   "metadata": {},
   "outputs": [],
   "source": [
    "ps1d = readfits('exp_wiener_miceDSV_estimated_theoretical_pk.fits') # estimated theoretical power spectrum"
   ]
  },
  {
   "cell_type": "code",
   "execution_count": null,
   "metadata": {},
   "outputs": [],
   "source": [
    "# Perform the proximal wiener filtering\n",
    "kiwT,iwiT = M.prox_wiener_filtering(D.g1, D.g2, ps1d, D.Ncov, Inpaint=False) #, Pn=Pn) # ,ktr=InShearData.ktr)\n"
   ]
  },
  {
   "cell_type": "code",
   "execution_count": null,
   "metadata": {},
   "outputs": [],
   "source": [
    "from mpl_toolkits.axes_grid1 import make_axes_locatable\n",
    "# 194.82476084451298 230.31501800287484 47.74981547830552 63.74989899311319\n",
    "# Plot peak positions over the convergence\n",
    "fig, ax = plt.subplots(1, 1, figsize=(12, 6))\n",
    "mappable = ax.imshow(kiwT[400:1040,:]*D.mask[400:1040,:], cmap='inferno', vmin=-0.002, vmax=0.002)\n",
    "# ax.scatter(y, x, s=10, c='orange')  # reverse x and y due to array indexing\n",
    "\n",
    "loc, labels = plt.xticks()\n",
    "n_ticks_x = 6\n",
    "plt.xticks(np.arange(loc[1], loc[-1], (loc[-1]-loc[1])/n_ticks_x), labels=np.round(np.arange(194.82476084451298, 230.31501800287484, step=(230.31501800287484-194.82476084451298)/n_ticks_x), 1))\n",
    "loc, labels = plt.yticks()\n",
    "n_ticks_y = 6\n",
    "plt.yticks(np.arange(loc[1], loc[-1], (loc[-1]-loc[1])/n_ticks_y), labels=np.round(np.arange(47.74981547830552, 63.74989899311319, step=(63.74989899311319-47.74981547830552)/n_ticks_x), 1))\n",
    "plt.gca().invert_yaxis()\n",
    "plt.gca().invert_xaxis()\n",
    "plt.xlabel('Ra (deg)')\n",
    "plt.ylabel('Dec (deg)')\n",
    "# plt.title('$\\kappa_{E}$')\n",
    "divider = make_axes_locatable(plt.gca())\n",
    "cax = divider.append_axes(\"right\", size=\"5%\", pad=0.2)\n",
    "\n",
    "cbar = plt.colorbar(mappable, cax=cax)\n",
    "# ax.set_xlim(ax.get_xlim()[::-1])\n",
    "# fig.colorbar(mappable)\n",
    "#save figure as pdf\n",
    "plt.savefig('figures/Wiener_kappa.pdf', bbox_inches='tight')\n",
    "plt.show()"
   ]
  },
  {
   "attachments": {},
   "cell_type": "markdown",
   "metadata": {},
   "source": [
    "Wiener with inpainting"
   ]
  },
  {
   "cell_type": "code",
   "execution_count": null,
   "metadata": {},
   "outputs": [],
   "source": [
    "# Perform the proximal wiener filtering\n",
    "kiwIn,iwiIn = M.prox_wiener_filtering(D.g1, D.g2, ps1d, D.Ncov, Inpaint=True) #, Pn=Pn) # ,ktr=InShearData.ktr)"
   ]
  },
  {
   "cell_type": "code",
   "execution_count": null,
   "metadata": {},
   "outputs": [],
   "source": [
    "# Plot peak positions over the convergence\n",
    "fig, ax = plt.subplots(1, 1, figsize=(20, 7))\n",
    "mappable = ax.imshow(kiwIn, cmap='inferno', vmin=-0.002, vmax=0.002, origin='lower')\n",
    "# ax.scatter(y, x, s=10, c='orange')  # reverse x and y due to array indexing\n",
    "# ax.set_axis_off()\n",
    "# Reversing x-axis\n",
    "ax.set_xlim(ax.get_xlim()[::-1])\n",
    "fig.colorbar(mappable)\n",
    "plt.show()"
   ]
  },
  {
   "cell_type": "code",
   "execution_count": null,
   "metadata": {},
   "outputs": [],
   "source": [
    "from mpl_toolkits.axes_grid1 import make_axes_locatable\n",
    "# 194.82476084451298 230.31501800287484 47.74981547830552 63.74989899311319\n",
    "# Plot peak positions over the convergence\n",
    "fig, ax = plt.subplots(1, 1, figsize=(12, 6))\n",
    "mappable = ax.imshow(kiwIn[400:1040,:], cmap='inferno', vmin=-0.002, vmax=0.002)\n",
    "# ax.scatter(y, x, s=10, c='orange')  # reverse x and y due to array indexing\n",
    "\n",
    "loc, labels = plt.xticks()\n",
    "n_ticks_x = 6\n",
    "plt.xticks(np.arange(loc[1], loc[-1], (loc[-1]-loc[1])/n_ticks_x), labels=np.round(np.arange(194.82476084451298, 230.31501800287484, step=(230.31501800287484-194.82476084451298)/n_ticks_x), 1))\n",
    "loc, labels = plt.yticks()\n",
    "n_ticks_y = 6\n",
    "plt.yticks(np.arange(loc[1], loc[-1], (loc[-1]-loc[1])/n_ticks_y), labels=np.round(np.arange(47.74981547830552, 63.74989899311319, step=(63.74989899311319-47.74981547830552)/n_ticks_x), 1))\n",
    "plt.gca().invert_yaxis()\n",
    "plt.gca().invert_xaxis()\n",
    "plt.xlabel('Ra (deg)')\n",
    "plt.ylabel('Dec (deg)')\n",
    "# plt.title('$\\kappa_{E}$')\n",
    "divider = make_axes_locatable(plt.gca())\n",
    "cax = divider.append_axes(\"right\", size=\"5%\", pad=0.2)\n",
    "\n",
    "ax.contour(D.mask[400:1040,:], colors='w', levels=[0.5], linewidths=0.5)\n",
    "\n",
    "cbar = plt.colorbar(mappable, cax=cax)\n",
    "# ax.set_xlim(ax.get_xlim()[::-1])\n",
    "# fig.colorbar(mappable)\n",
    "#save figure as pdf\n",
    "plt.savefig('figures/Wiener_Inpainting_with_mask_contours_kappa.pdf', bbox_inches='tight')\n",
    "plt.show()"
   ]
  },
  {
   "attachments": {},
   "cell_type": "markdown",
   "metadata": {},
   "source": [
    "MCAlens"
   ]
  },
  {
   "cell_type": "code",
   "execution_count": null,
   "metadata": {},
   "outputs": [],
   "source": [
    "k1r5, k1i5, k2r5, k2i = M.sparse_wiener_filtering(D, ps1d, Nsigma=5, niter=15, Inpaint=Inpaint, Bmode=Bmode, ktr=None)"
   ]
  },
  {
   "cell_type": "code",
   "execution_count": null,
   "metadata": {},
   "outputs": [],
   "source": [
    "# Plot peak positions over the convergence\n",
    "fig, ax = plt.subplots(1, 1, figsize=(20, 7))\n",
    "mappable = ax.imshow(k1r5*D.mask, cmap='inferno', vmin=-0.01, vmax=0.01, origin='lower')\n",
    "# ax.scatter(y, x, s=10, c='orange')  # reverse x and y due to array indexing\n",
    "# ax.set_axis_off()\n",
    "# Reversing x-axis\n",
    "ax.set_xlim(ax.get_xlim()[::-1])\n",
    "fig.colorbar(mappable)\n",
    "plt.show()"
   ]
  },
  {
   "cell_type": "code",
   "execution_count": null,
   "metadata": {},
   "outputs": [],
   "source": [
    "from mpl_toolkits.axes_grid1 import make_axes_locatable\n",
    "# 194.82476084451298 230.31501800287484 47.74981547830552 63.74989899311319\n",
    "# Plot peak positions over the convergence\n",
    "fig, ax = plt.subplots(1, 1, figsize=(12, 6))\n",
    "mappable = ax.imshow(k1r5[400:1040,:]*D.mask[400:1040,:], cmap='inferno', vmin=-0.01, vmax=0.01)\n",
    "# ax.scatter(y, x, s=10, c='orange')  # reverse x and y due to array indexing\n",
    "\n",
    "loc, labels = plt.xticks()\n",
    "n_ticks_x = 6\n",
    "plt.xticks(np.arange(loc[1], loc[-1], (loc[-1]-loc[1])/n_ticks_x), labels=np.round(np.arange(194.82476084451298, 230.31501800287484, step=(230.31501800287484-194.82476084451298)/n_ticks_x), 1))\n",
    "loc, labels = plt.yticks()\n",
    "n_ticks_y = 6\n",
    "plt.yticks(np.arange(loc[1], loc[-1], (loc[-1]-loc[1])/n_ticks_y), labels=np.round(np.arange(47.74981547830552, 63.74989899311319, step=(63.74989899311319-47.74981547830552)/n_ticks_x), 1))\n",
    "plt.gca().invert_yaxis()\n",
    "plt.gca().invert_xaxis()\n",
    "plt.xlabel('Ra (deg)')\n",
    "plt.ylabel('Dec (deg)')\n",
    "# plt.title('$\\kappa_{E}$')\n",
    "divider = make_axes_locatable(plt.gca())\n",
    "cax = divider.append_axes(\"right\", size=\"5%\", pad=0.2)\n",
    "\n",
    "cbar = plt.colorbar(mappable, cax=cax)\n",
    "# ax.set_xlim(ax.get_xlim()[::-1])\n",
    "# fig.colorbar(mappable)\n",
    "#save figure as pdf\n",
    "# plt.savefig('figures/MCAlens_Sigma5_kappa_very_light.pdf', bbox_inches='tight')\n",
    "plt.show()"
   ]
  },
  {
   "attachments": {},
   "cell_type": "markdown",
   "metadata": {},
   "source": [
    "# Peak counts for Sparse reconstruction"
   ]
  },
  {
   "cell_type": "code",
   "execution_count": null,
   "metadata": {},
   "outputs": [],
   "source": [
    "from matplotlib.patches import Rectangle\n",
    "\n",
    "fig, ax = plt.subplots(1, 1, figsize=(20, 7))\n",
    "mappable = ax.imshow(new_kappaE*new_mask, cmap='inferno', vmin=-0.01, vmax=0.01, origin='lower')\n",
    "ax.set_xlim(ax.get_xlim()[::-1])\n",
    "fig.colorbar(mappable)\n",
    "\n",
    "# Let's say you want to create a cutout at coordinates (100, 200) with a size of 512x512.\n",
    "# You can change these values according to your needs\n",
    "hh=1500\n",
    "x1, y1 = 2000, 250+hh\n",
    "x2, y2 = 2512, 250+hh\n",
    "x3, y3 = 3024, 250+hh\n",
    "x4, y4 = 3536, 250+hh    \n",
    "x5, y5 = 3300, 762+hh \n",
    "x6, y6 = 2788, 762+hh \n",
    "x7, y7 = 3200, 1274+hh \n",
    "x8, y8 = 2688, 1274+hh \n",
    "x9, y9 = 2176, 1200+hh \n",
    "x10, y10 = 1664, 1230+hh \n",
    "x11, y11 = 3712, 1274+hh \n",
    "# x12, y12 = 3712, 1786\n",
    "x12, y12 = 1488, 310+hh \n",
    "\n",
    "width, height = 512, 512\n",
    "\n",
    "# Create a Rectangle patch\n",
    "rect1 = Rectangle((x1, y1), width, height, linewidth=1, edgecolor='k', facecolor='none')\n",
    "rect2 = Rectangle((x2, y2), width, height, linewidth=1, edgecolor='k', facecolor='none')\n",
    "rect3 = Rectangle((x3, y3), width, height, linewidth=1, edgecolor='k', facecolor='none')\n",
    "rect4 = Rectangle((x4, y4), width, height, linewidth=1, edgecolor='k', facecolor='none')\n",
    "rect5 = Rectangle((x5, y5), width, height, linewidth=1, edgecolor='k', facecolor='none')\n",
    "rect6 = Rectangle((x6, y6), width, height, linewidth=1, edgecolor='k', facecolor='none')\n",
    "rect7 = Rectangle((x7, y7), width, height, linewidth=1, edgecolor='k', facecolor='none')\n",
    "rect8 = Rectangle((x8, y8), width, height, linewidth=1, edgecolor='k', facecolor='none')\n",
    "rect9 = Rectangle((x9, y9), width, height, linewidth=1, edgecolor='k', facecolor='none')\n",
    "rect10 = Rectangle((x10, y10), width, height, linewidth=1, edgecolor='k', facecolor='none')\n",
    "rect11 = Rectangle((x11, y11), width, height, linewidth=1, edgecolor='k', facecolor='none')\n",
    "rect12 = Rectangle((x12, y12), width, height, linewidth=1, edgecolor='k', facecolor='none')\n",
    "\n",
    "# Add the patch to the Axes\n",
    "ax.add_patch(rect1)\n",
    "ax.add_patch(rect2)\n",
    "ax.add_patch(rect3)\n",
    "ax.add_patch(rect4)\n",
    "ax.add_patch(rect5) \n",
    "ax.add_patch(rect6)\n",
    "ax.add_patch(rect7) \n",
    "ax.add_patch(rect8)\n",
    "ax.add_patch(rect9)\n",
    "ax.add_patch(rect10)\n",
    "ax.add_patch(rect11)\n",
    "ax.add_patch(rect12)\n",
    "\n",
    "plt.show()\n"
   ]
  },
  {
   "cell_type": "code",
   "execution_count": null,
   "metadata": {},
   "outputs": [],
   "source": [
    "h = 512\n",
    "cutout1 = new_kappaE[250+hh:250+hh+h, 2000:2000+h]\n",
    "cutout2 = new_kappaE[250+hh:250+hh+h, 2512:2512+h]\n",
    "cutout3 = new_kappaE[250+hh:250+hh+h, 3024:3024+h]\n",
    "cutout4 = new_kappaE[250+hh:250+hh+h, 3536:3536+h]\n",
    "cutout5 = new_kappaE[762+hh:762+hh+h, 3300:3300+h]\n",
    "cutout6 = new_kappaE[762+hh:762+hh+h, 2788:2788+h]\n",
    "cutout7 = new_kappaE[1274+hh:1274+hh+h, 3200:3200+h]\n",
    "cutout8 = new_kappaE[1274+hh:1274+hh+h, 2688:2688+h]\n",
    "cutout9 = new_kappaE[1200+hh:1200+hh+h, 2176:2176+h]\n",
    "cutout10 = new_kappaE[1230+hh:1230+hh+h, 1664:1664+h]\n",
    "cutout11 = new_kappaE[1274+hh:1274+hh+h, 3712:3712+h]\n",
    "cutout12 = new_kappaE[310+hh:310+hh+h, 1488:1488+h]\n",
    "\n",
    "cutouts = [cutout1, cutout2, cutout3, cutout4, cutout5, cutout6, cutout7, cutout8, cutout9, cutout10, cutout11, cutout12]"
   ]
  },
  {
   "cell_type": "code",
   "execution_count": null,
   "metadata": {},
   "outputs": [],
   "source": [
    "# Define the grid size for your subplots\n",
    "nrows, ncols = 4, 3\n",
    "\n",
    "# Create your subplots\n",
    "fig, axs = plt.subplots(nrows, ncols, figsize=(20, 20))\n",
    "\n",
    "# Since axs is 2D, we need to flatten it to iterate over it\n",
    "axs = axs.flatten()\n",
    "\n",
    "for i in range(len(cutouts)):\n",
    "    mappable = axs[i].imshow(cutouts[i], cmap='inferno', vmin=-0.01, vmax=0.01, origin='lower')\n",
    "    axs[i].set_xlim(axs[i].get_xlim()[::-1])\n",
    "\n",
    "# Add a colorbar\n",
    "fig.colorbar(mappable, ax=axs)\n",
    "\n",
    "plt.show()\n"
   ]
  },
  {
   "cell_type": "code",
   "execution_count": null,
   "metadata": {},
   "outputs": [],
   "source": [
    "import numpy as np\n",
    "import matplotlib.pyplot as plt\n",
    "from scipy import ndimage as ndi\n",
    "import lenspack.peaks as peaks\n",
    "\n",
    "\n",
    "# Define noise properties \n",
    "n_gal = 7  # galaxy number density in gal/arcmin^2\n",
    "pix_arcmin = 0.4  # pixel size in arcmin\n",
    "shape_noise = 0.44  # compute shape noise for CFIS\n",
    "sigma_noise_CFIS = shape_noise / (np.sqrt(2 * n_gal * pix_arcmin**2))\n",
    "\n",
    "# For storing all the peak counts\n",
    "peak_counts_all_snr = []\n",
    "peak_counts_all_kappa = []\n",
    "\n",
    "for i, cutout in enumerate(cutouts):\n",
    "    #7. smooth kappa map with gaussian filter\n",
    "    precision_Peaks = 2 / pix_arcmin  # Set the standard deviation of the Gaussian filter based on the pixel size of the kappa map\n",
    "\n",
    "    kappa_noisy_smoothed = ndi.gaussian_filter(cutout, precision_Peaks)  # Smooth the kappa map with a Gaussian filter\n",
    "\n",
    "    # generate noise map\n",
    "    noise = sigma_noise_CFIS * np.random.randn(512, 512)\n",
    "    snr = kappa_noisy_smoothed / np.std(ndi.gaussian_filter(noise, precision_Peaks))  # compute snr map\n",
    "\n",
    "    #8. measuring peaks\n",
    "    kappa_th = np.linspace(-0.06, 0.06, 31)\n",
    "    kappa_th_center = 0.5 * (kappa_th[:-1] + kappa_th[1:])\n",
    "\n",
    "    peak_counts, bins = peaks.peaks_histogram(kappa_noisy_smoothed, kappa_th)  # run peak counts on kappa maps\n",
    "\n",
    "    kappa_snr = np.linspace(-2, 6, 31)\n",
    "    kappa_th_center_snr = 0.5 * (kappa_snr[:-1] + kappa_snr[1:])\n",
    "\n",
    "    peak_counts_snr, bins_snr = peaks.peaks_histogram(snr, kappa_snr)  # compute peak counts on snr maps\n",
    "\n",
    "    # Add the peak counts to the lists\n",
    "    peak_counts_all_snr.append(peak_counts_snr)\n",
    "    peak_counts_all_kappa.append(peak_counts)\n",
    "\n",
    "# Convert lists to numpy arrays for easier manipulation\n",
    "peak_counts_all_snr = np.array(peak_counts_all_snr)\n",
    "peak_counts_all_kappa = np.array(peak_counts_all_kappa)\n",
    "\n",
    "# Calculate average peak counts\n",
    "avg_peak_counts_snr = np.mean(peak_counts_all_snr, axis=0)\n",
    "avg_peak_counts_kappa = np.mean(peak_counts_all_kappa, axis=0)\n",
    "\n",
    "# Plotting\n",
    "# plt.figure(figsize=(7,8))\n",
    "\n",
    "# Peak count histogram plotting for SNR\n",
    "# plt.subplot(2, 1, 1)\n",
    "plt.plot(kappa_th_center_snr, avg_peak_counts_snr, 'r-', label='Average SNR')\n",
    "plt.legend()\n",
    "plt.xlabel('SNR', fontsize=18)\n",
    "plt.ylabel('peak counts', fontsize=18)\n",
    "plt.show()\n",
    "\n",
    "# Peak count histogram plotting for Kappa\n",
    "# plt.subplot(2, 1, 2)\n",
    "plt.plot(kappa_th_center, avg_peak_counts_kappa, 'b-', label='Average Kappa')\n",
    "plt.legend()\n",
    "plt.xlabel('Kappa', fontsize=18)\n",
    "plt.ylabel('peak counts', fontsize=18)\n",
    "\n",
    "plt.tight_layout()\n",
    "plt.show()\n"
   ]
  },
  {
   "cell_type": "code",
   "execution_count": null,
   "metadata": {},
   "outputs": [],
   "source": [
    "np.save('sparse_4_kappa_th_center_snr.npy', kappa_th_center_snr)\n",
    "# save the peak counts as numpy array\n",
    "np.save('sparse_4_avg_peak_counts_snr.npy', avg_peak_counts_snr)"
   ]
  },
  {
   "cell_type": "code",
   "execution_count": null,
   "metadata": {},
   "outputs": [],
   "source": [
    "np.save('sparse_4_kappa_th_center.npy', kappa_th_center)\n",
    "# save the peak counts as numpy array\n",
    "np.save('sparse_4_avg_peak_counts.npy', avg_peak_counts_kappa)"
   ]
  }
 ],
 "metadata": {
  "kernelspec": {
   "display_name": "pysap",
   "language": "python",
   "name": "python3"
  },
  "language_info": {
   "codemirror_mode": {
    "name": "ipython",
    "version": 3
   },
   "file_extension": ".py",
   "mimetype": "text/x-python",
   "name": "python",
   "nbconvert_exporter": "python",
   "pygments_lexer": "ipython3",
   "version": "3.10.11"
  },
  "orig_nbformat": 4
 },
 "nbformat": 4,
 "nbformat_minor": 2
}
