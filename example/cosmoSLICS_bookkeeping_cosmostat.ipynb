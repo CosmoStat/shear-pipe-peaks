{
 "cells": [
  {
   "cell_type": "markdown",
   "metadata": {},
   "source": [
    "### Imports"
   ]
  },
  {
   "cell_type": "code",
   "execution_count": 1,
   "metadata": {},
   "outputs": [
    {
     "name": "stdout",
     "output_type": "stream",
     "text": [
      "Currently Loaded Modulefiles:\n",
      "  1) intelpython/3-2023.0.0      5) healpix/3.82-ifort-2023.0\n",
      "  2) gcc/9.5.0                   6) gsl/2.7.1\n",
      "  3) inteloneapi/2023.0          7) fftw/3.3.9\n",
      "  4) cfitsio/4.3.0\n"
     ]
    }
   ],
   "source": [
    "!module list"
   ]
  },
  {
   "cell_type": "code",
   "execution_count": 4,
   "metadata": {},
   "outputs": [],
   "source": [
    "import pycs\n",
    "import pysparse"
   ]
  },
  {
   "cell_type": "code",
   "execution_count": 5,
   "metadata": {},
   "outputs": [],
   "source": [
    "import os\n",
    "import numpy as np\n",
    "import matplotlib.pyplot as plt\n",
    "import pycs\n",
    "from pycs.astro.wl.mass_mapping import *\n",
    "from pycs.sparsity.sparse2d.starlet import *\n",
    "from pycs.misc.cosmostat_init import *\n",
    "from pycs.astro.wl.hos_peaks_l1 import *"
   ]
  },
  {
   "cell_type": "code",
   "execution_count": 6,
   "metadata": {},
   "outputs": [],
   "source": [
    "import sp_peaks\n",
    "from sp_peaks import slics\n",
    "from sp_peaks import mapping\n",
    "from sp_peaks import summary_statistics\n",
    "from sp_peaks import plotting"
   ]
  },
  {
   "cell_type": "markdown",
   "metadata": {},
   "source": [
    "### Bookkeeping"
   ]
  },
  {
   "cell_type": "code",
   "execution_count": null,
   "metadata": {},
   "outputs": [],
   "source": [
    "# Define root directory where the simulation files are located\n",
    "root_directory = \"/n17data/tersenov/SLICS/Cosmo_DES\"\n",
    "\n",
    "# Directories to exclude\n",
    "exclude_dirs = [\"SLICS_HR\", \"fid_a\", \"fid_f\"]\n",
    "\n",
    "# Open the master text file in write mode\n",
    "master_file_path = \".././input/master_file.txt\"\n",
    "with open(master_file_path, \"w\") as master_file:\n",
    "    # Iterate over the files and subdirectories in the root directory\n",
    "    for root, dirs, files in os.walk(root_directory):\n",
    "        # Exclude the specified directories\n",
    "        dirs[:] = [d for d in dirs if d not in exclude_dirs]\n",
    "        \n",
    "        for file_name in files:\n",
    "            # Write the file path to the master file\n",
    "            file_path = os.path.join(root, file_name)\n",
    "            master_file.write(file_path + \"\\n\")"
   ]
  },
  {
   "cell_type": "code",
   "execution_count": 7,
   "metadata": {},
   "outputs": [],
   "source": [
    "# Read the file paths from master_file.txt\n",
    "filename = \".././input/master_file.txt\"\n",
    "with open(filename, 'r') as file:\n",
    "    file_paths = file.readlines()\n",
    "    file_paths = [path.strip() for path in file_paths]\n",
    "\n",
    "filename_data = slics.parse_SLICS_filenames(file_paths)"
   ]
  },
  {
   "cell_type": "code",
   "execution_count": 8,
   "metadata": {},
   "outputs": [],
   "source": [
    "# Path to the .dat file\n",
    "dat_file_path = \"/home/tersenov/shear-pipe-peaks/example/CosmoTable.dat\" # for CANDIDE\n",
    "# dat_file_path = \"/Users/atersenov/Software/shear-pipe-peaks/example/CosmoTable.dat\" # for local machine\n",
    "\n",
    "# Read the cosmological parameters from the .dat file\n",
    "cosmo_params = slics.read_SLICS_cosmo_params(dat_file_path)\n",
    "\n",
    "mapped_params = slics.map_cosmo_params_to_data(filename_data, dat_file_path)"
   ]
  },
  {
   "cell_type": "markdown",
   "metadata": {},
   "source": [
    "### Read catalog and generate density map and noise map"
   ]
  },
  {
   "cell_type": "markdown",
   "metadata": {},
   "source": [
    "Constants and parameters"
   ]
  },
  {
   "cell_type": "code",
   "execution_count": 9,
   "metadata": {},
   "outputs": [],
   "source": [
    "# Constants and Parameters\n",
    "CATALOG_FILE = \"/n17data/tersenov/SLICS/Cosmo_DES/16_a/LOS4/DES_MocksCat_16_a_4_Bin3_LOS4_R4.dat\" # for CANDIDE\n",
    "# CATALOG_FILE = \"/Users/atersenov/Software/test_cosmostat/data/DES_MocksCat_16_a_4_Bin3_LOS4_R4.dat\" # for local machine\n",
    "N_GAL = 7 \n",
    "SIZE_X_DEG = 10.\n",
    "SIZE_Y_DEG = 10.\n",
    "PIX_ARCMIN = 1.\n",
    "SHAPE_NOISE = 0.44\n",
    "NSCALES = 5\n",
    "\n",
    "# Histogram parameters\n",
    "MIN_SNR = -2\n",
    "MAX_SNR = 6\n",
    "NBINS=31\n",
    "NBINS_L1 = 40\n",
    "\n",
    "\n",
    "# NBINS = 40 \n",
    "# KAPPA_SNR = np.linspace(-2, 6, 31)"
   ]
  },
  {
   "cell_type": "markdown",
   "metadata": {},
   "source": [
    "Load catalog"
   ]
  },
  {
   "cell_type": "code",
   "execution_count": 10,
   "metadata": {},
   "outputs": [
    {
     "name": "stderr",
     "output_type": "stream",
     "text": [
      "/home/tersenov/miniconda3/envs/pycs/lib/python3.11/site-packages/sp_peaks/slics.py:84: FutureWarning: The 'delim_whitespace' keyword in pd.read_csv is deprecated and will be removed in a future version. Use ``sep='\\s+'`` instead\n",
      "  dat = pd.read_csv(file_path, names=col_names, usecols=usecols, delim_whitespace=True)\n"
     ]
    }
   ],
   "source": [
    "# Load the catalog data \n",
    "catalog_data = slics.read_catalogue_pd(CATALOG_FILE)\n",
    "\n",
    "ra = catalog_data['RA']\n",
    "dec = catalog_data['Dec']\n",
    "g1_sim = catalog_data['gamma1_sim']\n",
    "g2_sim = catalog_data['gamma2_sim']\n",
    "kappa_sim = catalog_data['kappa_sim']"
   ]
  },
  {
   "cell_type": "markdown",
   "metadata": {},
   "source": [
    "Project (ra,dec) -> (x,y) "
   ]
  },
  {
   "cell_type": "code",
   "execution_count": 11,
   "metadata": {},
   "outputs": [],
   "source": [
    "# Project (ra,dec) -> (x,y)\n",
    "x, y = radec2xy(np.mean(ra), np.mean(dec), ra, dec)"
   ]
  },
  {
   "cell_type": "code",
   "execution_count": 12,
   "metadata": {},
   "outputs": [],
   "source": [
    "# Calculate the number of pixels in the x and y directions\n",
    "Nx, Ny = int(SIZE_X_DEG / PIX_ARCMIN * 60), int(SIZE_Y_DEG / PIX_ARCMIN * 60)"
   ]
  },
  {
   "cell_type": "markdown",
   "metadata": {},
   "source": [
    "Galaxies per pixel map"
   ]
  },
  {
   "cell_type": "code",
   "execution_count": 13,
   "metadata": {},
   "outputs": [],
   "source": [
    "# create the galaxy number density map\n",
    "galmap = bin2d(x, y, npix=(Nx,Ny))"
   ]
  },
  {
   "cell_type": "markdown",
   "metadata": {},
   "source": [
    "Mask"
   ]
  },
  {
   "cell_type": "code",
   "execution_count": 14,
   "metadata": {},
   "outputs": [],
   "source": [
    "# get the mask from the galaxy density map (the mask is 1 where there are galaxies and 0 where there are no galaxies)\n",
    "mask = (galmap > 0).astype(int)"
   ]
  },
  {
   "cell_type": "markdown",
   "metadata": {},
   "source": [
    "Noise map"
   ]
  },
  {
   "cell_type": "code",
   "execution_count": 15,
   "metadata": {},
   "outputs": [],
   "source": [
    "sigma_noise = np.zeros_like(galmap)\n",
    "sigma_noise[mask != 0] = SHAPE_NOISE / np.sqrt(2 * galmap[mask != 0])\n",
    "sigma_noise[mask == 0] = np.max(sigma_noise[mask != 0]) # set the noise to the maximum value in the map where there are galaxies"
   ]
  },
  {
   "cell_type": "code",
   "execution_count": 16,
   "metadata": {},
   "outputs": [],
   "source": [
    "noise_map_CFIS_z05 = sigma_noise * np.random.randn(sigma_noise.shape[0], sigma_noise.shape[1]) # generate noise map"
   ]
  },
  {
   "cell_type": "markdown",
   "metadata": {},
   "source": [
    "## Mass mapping"
   ]
  },
  {
   "cell_type": "markdown",
   "metadata": {},
   "source": [
    "Bin shear"
   ]
  },
  {
   "cell_type": "code",
   "execution_count": 17,
   "metadata": {},
   "outputs": [],
   "source": [
    "# bin the shear field into a 2D map\n",
    "e1map, e2map = bin2d(x, y, npix=(Nx, Ny), v=(g1_sim, g2_sim)) "
   ]
  },
  {
   "cell_type": "markdown",
   "metadata": {},
   "source": [
    "Initialize `shear_data` and `massmap2d` classes"
   ]
  },
  {
   "cell_type": "code",
   "execution_count": 18,
   "metadata": {},
   "outputs": [],
   "source": [
    "# Shear data class initialization\n",
    "d = shear_data()\n",
    "d.g1 = e1map\n",
    "d.g2 = -e2map\n",
    "(nx,ny) = e1map.shape\n",
    "d.mask = mask"
   ]
  },
  {
   "cell_type": "code",
   "execution_count": 19,
   "metadata": {},
   "outputs": [],
   "source": [
    "# Shear noise covariance matrix\n",
    "Ncov = np.zeros((nx,ny))\n",
    "Ncov[mask > 0] = 2. * sigma_noise[mask > 0]**2\n",
    "Ncov[mask == 0] = 1e9 # set the noise to the maximum value in the map where there are galaxies\n",
    "\n",
    "d.Ncov = Ncov\n",
    "d.nx = nx\n",
    "d.ny = ny  "
   ]
  },
  {
   "cell_type": "code",
   "execution_count": 20,
   "metadata": {},
   "outputs": [],
   "source": [
    "# Mass mapping class initialization\n",
    "M = massmap2d(name='mass')\n",
    "M.init_massmap(d.nx,d.ny)\n",
    "M.DEF_niter = 50\n",
    "Inpaint = True\n",
    "M.niter_debias = 30\n",
    "M.Verbose = False "
   ]
  },
  {
   "cell_type": "markdown",
   "metadata": {},
   "source": [
    "Mass maps"
   ]
  },
  {
   "cell_type": "code",
   "execution_count": 21,
   "metadata": {},
   "outputs": [],
   "source": [
    "# KS\n",
    "ks =  M.gamma_to_cf_kappa(e1map,-e2map) \n",
    "ks = ks.real"
   ]
  },
  {
   "cell_type": "code",
   "execution_count": 22,
   "metadata": {},
   "outputs": [],
   "source": [
    "# KS + Inpainting\n",
    "ksi =  M.iks(d.g1, d.g2, mask) \n",
    "ksi = ksi.real"
   ]
  },
  {
   "cell_type": "markdown",
   "metadata": {},
   "source": [
    "## Statistics"
   ]
  },
  {
   "cell_type": "markdown",
   "metadata": {},
   "source": [
    "Add noise to mass maps"
   ]
  },
  {
   "cell_type": "code",
   "execution_count": 23,
   "metadata": {},
   "outputs": [],
   "source": [
    "ks_noisy = ks + noise_map_CFIS_z05\n",
    "ksi_noisy = ksi + noise_map_CFIS_z05"
   ]
  },
  {
   "cell_type": "markdown",
   "metadata": {},
   "source": [
    "Initialize `starlet2d` and `HOS_starlet_l1_norm_peaks` classes"
   ]
  },
  {
   "cell_type": "code",
   "execution_count": 24,
   "metadata": {},
   "outputs": [],
   "source": [
    "WT = starlet2d(gen2=False,l2norm=False, verb=False)\n",
    "WT.init_starlet(nx, ny, nscale=NSCALES)\n",
    "H = HOS_starlet_l1norm_peaks(WT)"
   ]
  },
  {
   "cell_type": "code",
   "execution_count": 25,
   "metadata": {},
   "outputs": [
    {
     "name": "stdout",
     "output_type": "stream",
     "text": [
      "Scale  1 : Min =  -19.694702327166553 , Max =  17.30709556474248\n",
      "Scale  2 : Min =  -8.7716241053021 , Max =  7.637516626155022\n",
      "Scale  3 : Min =  -7.205006494165433 , Max =  7.491437782292202\n",
      "Scale  4 : Min =  -6.500449362408646 , Max =  6.2422830626080374\n",
      "Scale  5 : Min =  -5.842873461158666 , Max =  9.42632421085046\n"
     ]
    }
   ],
   "source": [
    "H.set_bins(Min=MIN_SNR, Max=MAX_SNR, nbins=NBINS)\n",
    "H.set_data(ks_noisy, SigmaMap=sigma_noise, Mask=mask)\n",
    "H.get_mono_scale_peaks(ks_noisy, sigma_noise, mask=mask)\n",
    "H.get_wtpeaks(Mask=mask)\n",
    "pc = H.Peaks_Count\n",
    "H.get_wtl1(NBINS_L1*2, Mask=mask)"
   ]
  },
  {
   "cell_type": "code",
   "execution_count": 26,
   "metadata": {},
   "outputs": [
    {
     "name": "stdout",
     "output_type": "stream",
     "text": [
      "(5, 80)\n",
      "(5, 80)\n"
     ]
    }
   ],
   "source": [
    "#check the shape of the l1bins\n",
    "print(H.l1bins.shape)\n",
    "print(H.l1norm.shape)"
   ]
  },
  {
   "cell_type": "markdown",
   "metadata": {},
   "source": [
    "## Plotting"
   ]
  },
  {
   "cell_type": "markdown",
   "metadata": {},
   "source": [
    "Mass map"
   ]
  },
  {
   "cell_type": "code",
   "execution_count": 27,
   "metadata": {},
   "outputs": [],
   "source": [
    "tvilut(ks, title='Noiseless KS Map', lut='inferno', vmin=-0.02, vmax=0.02, fs=5)"
   ]
  },
  {
   "cell_type": "markdown",
   "metadata": {},
   "source": [
    "Noisy mass map"
   ]
  },
  {
   "cell_type": "code",
   "execution_count": 28,
   "metadata": {},
   "outputs": [],
   "source": [
    "tvilut(ks_noisy, title='Noisy KS Map', lut='inferno', vmin=-0.2, vmax=0.2, fs=5)"
   ]
  },
  {
   "cell_type": "markdown",
   "metadata": {},
   "source": [
    "Mono-scale peaks"
   ]
  },
  {
   "cell_type": "code",
   "execution_count": 29,
   "metadata": {},
   "outputs": [],
   "source": [
    "H.plot_mono_peaks_histogram()"
   ]
  },
  {
   "cell_type": "markdown",
   "metadata": {},
   "source": [
    "Multiscale peaks"
   ]
  },
  {
   "cell_type": "code",
   "execution_count": 30,
   "metadata": {},
   "outputs": [],
   "source": [
    "H.plot_peaks_histo(log_scale=True)"
   ]
  },
  {
   "cell_type": "markdown",
   "metadata": {},
   "source": [
    "$\\ell_1$ norm"
   ]
  },
  {
   "cell_type": "code",
   "execution_count": 31,
   "metadata": {},
   "outputs": [],
   "source": [
    "H.plot_l1norm()"
   ]
  },
  {
   "cell_type": "code",
   "execution_count": null,
   "metadata": {},
   "outputs": [],
   "source": []
  },
  {
   "cell_type": "code",
   "execution_count": null,
   "metadata": {},
   "outputs": [],
   "source": []
  }
 ],
 "metadata": {
  "kernelspec": {
   "display_name": "Python 3 (ipykernel)",
   "language": "python",
   "name": "python3"
  },
  "language_info": {
   "codemirror_mode": {
    "name": "ipython",
    "version": 3
   },
   "file_extension": ".py",
   "mimetype": "text/x-python",
   "name": "python",
   "nbconvert_exporter": "python",
   "pygments_lexer": "ipython3",
   "version": "3.11.7"
  }
 },
 "nbformat": 4,
 "nbformat_minor": 4
}
