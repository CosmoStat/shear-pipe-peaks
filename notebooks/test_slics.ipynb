{
 "cells": [
  {
   "cell_type": "markdown",
   "metadata": {},
   "source": [
    "# CosmoSLICS simulation testing\n",
    "07/2023                                                                       "
   ]
  },
  {
   "cell_type": "code",
   "execution_count": 1,
   "metadata": {},
   "outputs": [],
   "source": [
    "%matplotlib inline                                                            \n",
    "%load_ext autoreload                                                          \n",
    "%autoreload 2                                                                                                                                                 "
   ]
  },
  {
   "cell_type": "code",
   "execution_count": 2,
   "metadata": {},
   "outputs": [],
   "source": [
    "import matplotlib.pylab as plt\n",
    "import os\n",
    "from cs_util import cat as cs_cat"
   ]
  },
  {
   "cell_type": "code",
   "execution_count": 3,
   "metadata": {},
   "outputs": [
    {
     "name": "stdout",
     "output_type": "stream",
     "text": [
      "sp_peaks version = 0.0.1\n"
     ]
    }
   ],
   "source": [
    "import sp_peaks           \n",
    "print(f\"sp_peaks version = {sp_peaks.__version__}\")\n",
    "\n",
    "from sp_peaks import slics"
   ]
  },
  {
   "cell_type": "code",
   "execution_count": 4,
   "metadata": {},
   "outputs": [],
   "source": [
    "root_directory = \"/n17data/tersenov/SLICS/Cosmo_DES\""
   ]
  },
  {
   "cell_type": "code",
   "execution_count": 5,
   "metadata": {},
   "outputs": [],
   "source": [
    "cat_path = f\"{root_directory}/06_f/LOS3/DES_MocksCat_06_f_4_Bin3_LOS3_R19.dat\""
   ]
  },
  {
   "cell_type": "code",
   "execution_count": 6,
   "metadata": {},
   "outputs": [],
   "source": [
    "# Load catalogue, all columns\n",
    "dat = slics.read_catalogue(cat_path)"
   ]
  },
  {
   "cell_type": "code",
   "execution_count": 7,
   "metadata": {},
   "outputs": [],
   "source": [
    "# DEBUG\n",
    "dat_comb = dat"
   ]
  },
  {
   "cell_type": "code",
   "execution_count": 10,
   "metadata": {},
   "outputs": [
    {
     "data": {
      "text/plain": [
       "('RA',\n",
       " 'Dec',\n",
       " 'e1_data',\n",
       " 'e2_data',\n",
       " 'w',\n",
       " 'redshift_true_sim',\n",
       " 'gamma1_sim',\n",
       " 'gamma2_sim',\n",
       " 'kappa_sim',\n",
       " 'S_metacal_data')"
      ]
     },
     "execution_count": 10,
     "metadata": {},
     "output_type": "execute_result"
    }
   ],
   "source": [
    "# Print column names\n",
    "print(dat.dtype.names)"
   ]
  },
  {
   "cell_type": "code",
   "execution_count": 11,
   "metadata": {},
   "outputs": [
    {
     "data": {
      "text/html": [
       "<i>Row index=0</i>\n",
       "<table id=\"table139725219007184\">\n",
       "<thead><tr><th>RA</th><th>Dec</th><th>e1_data</th><th>e2_data</th><th>w</th><th>redshift_true_sim</th><th>gamma1_sim</th><th>gamma2_sim</th><th>kappa_sim</th><th>S_metacal_data</th></tr></thead>\n",
       "<thead><tr><th>float64</th><th>float64</th><th>float64</th><th>float64</th><th>float64</th><th>float64</th><th>float64</th><th>float64</th><th>float64</th><th>float64</th></tr></thead>\n",
       "<tr><td>9.9850721</td><td>0.83404565</td><td>-0.3871837</td><td>-0.093102939</td><td>1.0</td><td>0.81983972</td><td>0.011937537</td><td>0.00051228399</td><td>-0.010907983</td><td>-0.17440903</td></tr>\n",
       "</table>"
      ],
      "text/plain": [
       "<Row index=0>\n",
       "    RA       Dec      e1_data     e2_data       w    redshift_true_sim  gamma1_sim   gamma2_sim   kappa_sim   S_metacal_data\n",
       " float64   float64    float64     float64    float64      float64        float64      float64      float64       float64    \n",
       "--------- ---------- ---------- ------------ ------- ----------------- ----------- ------------- ------------ --------------\n",
       "9.9850721 0.83404565 -0.3871837 -0.093102939     1.0        0.81983972 0.011937537 0.00051228399 -0.010907983    -0.17440903"
      ]
     },
     "execution_count": 11,
     "metadata": {},
     "output_type": "execute_result"
    }
   ],
   "source": [
    "# Print first line\n",
    "print(dat[0])"
   ]
  },
  {
   "cell_type": "code",
   "execution_count": 12,
   "metadata": {},
   "outputs": [],
   "source": [
    "# Load only essential columns\n",
    "dat_ess = slics.read_catalogue(cat_path, all_col=False)"
   ]
  },
  {
   "cell_type": "code",
   "execution_count": 12,
   "metadata": {},
   "outputs": [],
   "source": [
    "from astropy.table import vstack\n",
    "x = vstack([dat, dat])"
   ]
  },
  {
   "cell_type": "code",
   "execution_count": 16,
   "metadata": {},
   "outputs": [
    {
     "data": {
      "text/plain": [
       "412196"
      ]
     },
     "execution_count": 16,
     "metadata": {},
     "output_type": "execute_result"
    }
   ],
   "source": [
    "len(dat)"
   ]
  },
  {
   "cell_type": "code",
   "execution_count": 13,
   "metadata": {
    "scrolled": true
   },
   "outputs": [
    {
     "data": {
      "text/html": [
       "<i>Row index=0</i>\n",
       "<table id=\"table139725219486544\">\n",
       "<thead><tr><th>RA</th><th>Dec</th><th>e1_data</th><th>e2_data</th><th>redshift_true_sim</th></tr></thead>\n",
       "<thead><tr><th>float64</th><th>float64</th><th>float64</th><th>float64</th><th>float64</th></tr></thead>\n",
       "<tr><td>9.9850721</td><td>0.83404565</td><td>-0.3871837</td><td>-0.093102939</td><td>0.81983972</td></tr>\n",
       "</table>"
      ],
      "text/plain": [
       "<Row index=0>\n",
       "    RA       Dec      e1_data     e2_data    redshift_true_sim\n",
       " float64   float64    float64     float64         float64     \n",
       "--------- ---------- ---------- ------------ -----------------\n",
       "9.9850721 0.83404565 -0.3871837 -0.093102939        0.81983972"
      ]
     },
     "execution_count": 13,
     "metadata": {},
     "output_type": "execute_result"
    }
   ],
   "source": [
    "print(dat_ess[0])"
   ]
  },
  {
   "cell_type": "code",
   "execution_count": 31,
   "metadata": {},
   "outputs": [
    {
     "name": "stdout",
     "output_type": "stream",
     "text": [
      "Reading catalogue fid_f/LOS2/DES_MocksCat_fid_f_4_Bin1_LOS2_R5.dat...\n",
      "Reading catalogue fid_f/LOS2/DES_MocksCat_fid_f_4_Bin2_LOS2_R5.dat...\n",
      "Reading catalogue fid_f/LOS2/DES_MocksCat_fid_f_4_Bin3_LOS2_R5.dat...\n",
      "Reading catalogue fid_f/LOS2/DES_MocksCat_fid_f_4_Bin4_LOS2_R5.dat...\n"
     ]
    }
   ],
   "source": [
    "# Combine all four redshift bins for given cosmo ID, line of sight, and tile number\n",
    "dat_comb = slics.read_multiple_catalogues(\n",
    "    root_directory,\n",
    "    cosmo_id=\"fid_f\",\n",
    "    zbins=None,\n",
    "    lsos=[2],\n",
    "    tiles=[5],\n",
    "    combine=\"add\",\n",
    "    verbose=True,\n",
    ")"
   ]
  },
  {
   "cell_type": "code",
   "execution_count": 23,
   "metadata": {},
   "outputs": [
    {
     "data": {
      "text/plain": [
       "1236929"
      ]
     },
     "execution_count": 23,
     "metadata": {},
     "output_type": "execute_result"
    }
   ],
   "source": [
    "len(dat_comb)"
   ]
  },
  {
   "cell_type": "code",
   "execution_count": 52,
   "metadata": {},
   "outputs": [
    {
     "name": "stdout",
     "output_type": "stream",
     "text": [
      "200 200 201\n"
     ]
    }
   ],
   "source": [
    "# Read CFIS redshift distribution (blind version \"A\", ShapePipe)\n",
    "dndz_CFIS_path = \"/n17data/mkilbing/astro/data/CFIS/v1.0/nz/dndz_SP_A.txt\"\n",
    "z_centers_ext, dndz_ext, z_edges_ext = cs_cat.read_dndz(dndz_CFIS_path)\n",
    "\n",
    "nz = len(z_edges_ext)\n",
    "print(len(z_centers_ext), len(dndz_ext), len(z_edges_ext))"
   ]
  },
  {
   "cell_type": "code",
   "execution_count": 49,
   "metadata": {},
   "outputs": [],
   "source": [
    "dndz_slics, z_edges_slics = np.histogram(dat_comb[\"redshift_true_sim\"], bins=z_edges_CFIS)"
   ]
  },
  {
   "cell_type": "code",
   "execution_count": 53,
   "metadata": {},
   "outputs": [
    {
     "data": {
      "text/plain": [
       "0.0"
      ]
     },
     "execution_count": 53,
     "metadata": {},
     "output_type": "execute_result"
    }
   ],
   "source": [
    "# CHeck that z\n",
    "max(z_edges_slics - z_edges_ext)"
   ]
  },
  {
   "cell_type": "code",
   "execution_count": 54,
   "metadata": {},
   "outputs": [
    {
     "data": {
      "text/plain": [
       "[<matplotlib.lines.Line2D at 0x7fc0101cde10>]"
      ]
     },
     "execution_count": 54,
     "metadata": {},
     "output_type": "execute_result"
    },
    {
     "data": {
      "image/png": "[encoded data removed]",
      "text/plain": [
       "<Figure size 640x480 with 1 Axes>"
      ]
     },
     "metadata": {},
     "output_type": "display_data"
    }
   ],
   "source": [
    "plt.plot(res[1][:-1], res[0] / sum(res[0]), '-')\n",
    "plt.plot(z_centers_ext, dndz_ext / sum(dndz_ext), '-')"
   ]
  },
  {
   "cell_type": "code",
   "execution_count": 35,
   "metadata": {},
   "outputs": [
    {
     "data": {
      "text/plain": [
       "array([3.1  , 3.125, 3.15 , 3.175, 3.2  , 3.225, 3.25 , 3.275, 3.3  ,\n",
       "       3.325, 3.35 , 3.375, 3.4  , 3.425, 3.45 , 3.475, 3.5  , 3.525,\n",
       "       3.55 , 3.575, 3.6  , 3.625, 3.65 , 3.675, 3.7  , 3.725, 3.75 ,\n",
       "       3.775, 3.8  , 3.825, 3.85 , 3.875, 3.9  , 3.925, 3.95 , 3.975,\n",
       "       4.   , 4.025, 4.05 , 4.075, 4.1  , 4.125, 4.15 , 4.175, 4.2  ,\n",
       "       4.225, 4.25 , 4.275, 4.3  , 4.325, 4.35 , 4.375, 4.4  , 4.425,\n",
       "       4.45 , 4.475, 4.5  , 4.525, 4.55 , 4.575, 4.6  , 4.625, 4.65 ,\n",
       "       4.675, 4.7  , 4.725, 4.75 , 4.775, 4.8  , 4.825, 4.85 , 4.875,\n",
       "       4.9  , 4.925, 4.95 , 4.975])"
      ]
     },
     "execution_count": 35,
     "metadata": {},
     "output_type": "execute_result"
    }
   ],
   "source": [
    "res[1][np.where(res[0] == 0)]"
   ]
  },
  {
   "cell_type": "code",
   "execution_count": 37,
   "metadata": {},
   "outputs": [],
   "source": [
    "z_max = 1.8"
   ]
  },
  {
   "cell_type": "code",
   "execution_count": 55,
   "metadata": {},
   "outputs": [],
   "source": [
    "idx_z_max = np.where(z_edges_ext < z_max)                               \n",
    "dndz_ext = dndz_ext[idx_z_max]                                          \n",
    "dndz_slics = dndz_slics[idx_z_max] "
   ]
  },
  {
   "cell_type": "code",
   "execution_count": 56,
   "metadata": {
    "scrolled": true
   },
   "outputs": [],
   "source": [
    "probability = dndz_ext / dndz_slics "
   ]
  },
  {
   "cell_type": "code",
   "execution_count": 57,
   "metadata": {},
   "outputs": [
    {
     "data": {
      "text/html": [
       "&lt;Column name=&apos;dn_dz&apos; dtype=&apos;float64&apos; length=72&gt;\n",
       "<table>\n",
       "<tr><td>2.8594946127434253e-07</td></tr>\n",
       "<tr><td>1.574042958404797e-06</td></tr>\n",
       "<tr><td>3.4526586550599785e-05</td></tr>\n",
       "<tr><td>3.6643725378022684e-05</td></tr>\n",
       "<tr><td>5.022913194677407e-06</td></tr>\n",
       "<tr><td>1.1714737205167959e-05</td></tr>\n",
       "<tr><td>8.970696531364506e-06</td></tr>\n",
       "<tr><td>1.3304558529801936e-05</td></tr>\n",
       "<tr><td>9.060341138639804e-06</td></tr>\n",
       "<tr><td>9.521187042241408e-06</td></tr>\n",
       "<tr><td>9.429373093166353e-06</td></tr>\n",
       "<tr><td>1.4343356129976788e-05</td></tr>\n",
       "<tr><td>5.95389015170617e-06</td></tr>\n",
       "<tr><td>7.148540213151322e-06</td></tr>\n",
       "<tr><td>1.0605122695037108e-05</td></tr>\n",
       "<tr><td>7.191759690474512e-06</td></tr>\n",
       "<tr><td>1.6749245245411434e-05</td></tr>\n",
       "<tr><td>2.8701152664041492e-05</td></tr>\n",
       "<tr><td>3.880998267525931e-05</td></tr>\n",
       "<tr><td>4.5776419574454834e-05</td></tr>\n",
       "<tr><td>3.935527228675306e-05</td></tr>\n",
       "<tr><td>...</td></tr>\n",
       "<tr><td>2.8076328050197772e-05</td></tr>\n",
       "<tr><td>3.020942349646766e-05</td></tr>\n",
       "<tr><td>1.8046714427860424e-05</td></tr>\n",
       "<tr><td>1.880129882157627e-05</td></tr>\n",
       "<tr><td>2.2470929566663213e-05</td></tr>\n",
       "<tr><td>1.2017156234951234e-05</td></tr>\n",
       "<tr><td>2.4378470209440235e-05</td></tr>\n",
       "<tr><td>1.4958056487754153e-05</td></tr>\n",
       "<tr><td>1.5363682367389733e-05</td></tr>\n",
       "<tr><td>1.247317735341576e-05</td></tr>\n",
       "<tr><td>2.2038203225290923e-05</td></tr>\n",
       "<tr><td>0.0</td></tr>\n",
       "<tr><td>1.3428355735607473e-05</td></tr>\n",
       "<tr><td>1.8418623069785764e-05</td></tr>\n",
       "<tr><td>2.3499622537313078e-05</td></tr>\n",
       "<tr><td>2.1033612764878806e-05</td></tr>\n",
       "<tr><td>2.1430473383084254e-05</td></tr>\n",
       "<tr><td>4.0807727759405945e-06</td></tr>\n",
       "<tr><td>1.6966532454325473e-05</td></tr>\n",
       "<tr><td>5.408643282397454e-06</td></tr>\n",
       "</table>"
      ],
      "text/plain": [
       "<Column name='dn_dz' dtype='float64' length=72>\n",
       "2.8594946127434253e-07\n",
       " 1.574042958404797e-06\n",
       "3.4526586550599785e-05\n",
       "3.6643725378022684e-05\n",
       " 5.022913194677407e-06\n",
       "1.1714737205167959e-05\n",
       " 8.970696531364506e-06\n",
       "1.3304558529801936e-05\n",
       " 9.060341138639804e-06\n",
       " 9.521187042241408e-06\n",
       " 9.429373093166353e-06\n",
       "1.4343356129976788e-05\n",
       "  5.95389015170617e-06\n",
       " 7.148540213151322e-06\n",
       "1.0605122695037108e-05\n",
       " 7.191759690474512e-06\n",
       "1.6749245245411434e-05\n",
       "2.8701152664041492e-05\n",
       " 3.880998267525931e-05\n",
       "4.5776419574454834e-05\n",
       " 3.935527228675306e-05\n",
       "                   ...\n",
       "2.8076328050197772e-05\n",
       " 3.020942349646766e-05\n",
       "1.8046714427860424e-05\n",
       " 1.880129882157627e-05\n",
       "2.2470929566663213e-05\n",
       "1.2017156234951234e-05\n",
       "2.4378470209440235e-05\n",
       "1.4958056487754153e-05\n",
       "1.5363682367389733e-05\n",
       " 1.247317735341576e-05\n",
       "2.2038203225290923e-05\n",
       "                   0.0\n",
       "1.3428355735607473e-05\n",
       "1.8418623069785764e-05\n",
       "2.3499622537313078e-05\n",
       "2.1033612764878806e-05\n",
       "2.1430473383084254e-05\n",
       "4.0807727759405945e-06\n",
       "1.6966532454325473e-05\n",
       " 5.408643282397454e-06"
      ]
     },
     "execution_count": 57,
     "metadata": {},
     "output_type": "execute_result"
    }
   ],
   "source": [
    "probability"
   ]
  },
  {
   "cell_type": "code",
   "execution_count": null,
   "metadata": {},
   "outputs": [],
   "source": []
  }
 ],
 "metadata": {
  "jupytext": {
   "formats": "ipynb,py"
  },
  "kernelspec": {
   "display_name": "Python 3 (ipykernel)",
   "language": "python",
   "name": "python3"
  },
  "language_info": {
   "codemirror_mode": {
    "name": "ipython",
    "version": 3
   },
   "file_extension": ".py",
   "mimetype": "text/x-python",
   "name": "python",
   "nbconvert_exporter": "python",
   "pygments_lexer": "ipython3",
   "version": "3.11.4"
  }
 },
 "nbformat": 4,
 "nbformat_minor": 4
}
