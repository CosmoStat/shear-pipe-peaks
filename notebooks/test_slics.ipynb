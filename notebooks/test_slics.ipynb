{
 "cells": [
  {
   "cell_type": "markdown",
   "metadata": {},
   "source": [
    "# CosmoSLICS simulation testing\n",
    "07/2023                                                                       "
   ]
  },
  {
   "cell_type": "code",
   "execution_count": 1,
   "metadata": {},
   "outputs": [],
   "source": [
    "%matplotlib inline                                                            \n",
    "%load_ext autoreload                                                          \n",
    "%autoreload 2                                                                                                                                                 "
   ]
  },
  {
   "cell_type": "code",
   "execution_count": 2,
   "metadata": {},
   "outputs": [],
   "source": [
    "import matplotlib.pylab as plt\n",
    "import os\n",
    "import copy\n",
    "import numpy as np\n",
    "from cs_util import cat as cs_cat"
   ]
  },
  {
   "cell_type": "code",
   "execution_count": 3,
   "metadata": {},
   "outputs": [
    {
     "name": "stdout",
     "output_type": "stream",
     "text": [
      "sp_peaks version = 0.0.1\n"
     ]
    }
   ],
   "source": [
    "import sp_peaks           \n",
    "print(f\"sp_peaks version = {sp_peaks.__version__}\")\n",
    "\n",
    "from sp_peaks import slics"
   ]
  },
  {
   "cell_type": "code",
   "execution_count": 4,
   "metadata": {},
   "outputs": [],
   "source": [
    "#root_directory = \"/n17data/tersenov/SLICS/Cosmo_DES\"\n",
    "root_directory = \".\""
   ]
  },
  {
   "cell_type": "code",
   "execution_count": 5,
   "metadata": {},
   "outputs": [],
   "source": [
    "cat_path = f\"{root_directory}/06_f/LOS3/DES_MocksCat_06_f_4_Bin3_LOS3_R19.dat\""
   ]
  },
  {
   "cell_type": "code",
   "execution_count": 6,
   "metadata": {},
   "outputs": [],
   "source": [
    "# Load catalogue, all columns\n",
    "dat = slics.read_catalogue(cat_path)"
   ]
  },
  {
   "cell_type": "code",
   "execution_count": 7,
   "metadata": {},
   "outputs": [
    {
     "name": "stdout",
     "output_type": "stream",
     "text": [
      "('RA', 'Dec', 'e1_data', 'e2_data', 'w', 'redshift_true_sim', 'gamma1_sim', 'gamma2_sim', 'kappa_sim', 'S_metacal_data')\n"
     ]
    }
   ],
   "source": [
    "# Print column names\n",
    "print(dat.dtype.names)"
   ]
  },
  {
   "cell_type": "code",
   "execution_count": 9,
   "metadata": {},
   "outputs": [
    {
     "name": "stdout",
     "output_type": "stream",
     "text": [
      "    RA       Dec      e1_data     e2_data     w  redshift_true_sim  gamma1_sim   gamma2_sim   kappa_sim   S_metacal_data\n",
      "--------- ---------- ---------- ------------ --- ----------------- ----------- ------------- ------------ --------------\n",
      "9.9850721 0.83404565 -0.3871837 -0.093102939 1.0        0.81983972 0.011937537 0.00051228399 -0.010907983    -0.17440903\n"
     ]
    }
   ],
   "source": [
    "# Print first line\n",
    "print(dat[0])"
   ]
  },
  {
   "cell_type": "code",
   "execution_count": 10,
   "metadata": {},
   "outputs": [],
   "source": [
    "# Load only essential columns\n",
    "dat_ess = slics.read_catalogue(cat_path, all_col=False)"
   ]
  },
  {
   "cell_type": "code",
   "execution_count": 13,
   "metadata": {
    "scrolled": true
   },
   "outputs": [
    {
     "name": "stdout",
     "output_type": "stream",
     "text": [
      "    RA       Dec     redshift_true_sim  gamma1_sim   gamma2_sim \n",
      "--------- ---------- ----------------- ----------- -------------\n",
      "9.9850721 0.83404565        0.81983972 0.011937537 0.00051228399\n"
     ]
    }
   ],
   "source": [
    "print(dat_ess[0])"
   ]
  },
  {
   "cell_type": "code",
   "execution_count": null,
   "metadata": {},
   "outputs": [
    {
     "name": "stdout",
     "output_type": "stream",
     "text": [
      "Reading catalogue 06_f/LOS2/DES_MocksCat_06_f_4_Bin1_LOS2_R5.dat...\n",
      "Reading catalogue 06_f/LOS2/DES_MocksCat_06_f_4_Bin2_LOS2_R5.dat...\n",
      "Reading catalogue 06_f/LOS2/DES_MocksCat_06_f_4_Bin3_LOS2_R5.dat...\n"
     ]
    }
   ],
   "source": [
    "# Combine all four redshift bins for given cosmo ID, line of sight, and tile number\n",
    "dat_comb = slics.read_multiple_catalogues(\n",
    "    root_directory,\n",
    "    cosmo_id=\"06_f\",\n",
    "    zbins=None,\n",
    "    lsos=[2],\n",
    "    tiles=[5],\n",
    "    combine=\"add\",\n",
    "    verbose=True,\n",
    ")"
   ]
  },
  {
   "cell_type": "code",
   "execution_count": 10,
   "metadata": {},
   "outputs": [
    {
     "name": "stdout",
     "output_type": "stream",
     "text": [
      "Number of galaxies = 1236929\n",
      "Number density = 3.56 arcmin^{-2}\n"
     ]
    }
   ],
   "source": [
    "print(f\"Number of galaxies = {len(dat_comb)}\")\n",
    "n_gal = slics.get_number_density(dat_comb)\n",
    "print(f\"Number density = {n_gal:.2f} arcmin^{{-2}}\")"
   ]
  },
  {
   "cell_type": "code",
   "execution_count": 11,
   "metadata": {},
   "outputs": [],
   "source": [
    "# Read CFIS redshift distribution (blind version \"A\", ShapePipe)\n",
    "dndz_CFIS_path = \"dndz_SP_A.txt\"\n",
    "#dndz_CFIS_path = \"/n17data/mkilbing/astro/data/CFIS/v1.0/nz/dndz_SP_A.txt\"dslics.resample_z(dat_comb, dndz_CFIS_path, len(dat_comb) / 4, z_max=1.8)"
   ]
  },
  {
   "cell_type": "code",
   "execution_count": 12,
   "metadata": {},
   "outputs": [],
   "source": [
    "# Testing\n",
    "\n",
    "# External (CFIS) redshift histogram\n",
    "z_centers_ext, dndz_ext, z_edges_ext = cs_cat.read_dndz(dndz_CFIS_path)\n",
    "\n",
    "# Original SLICS redshift histogram\n",
    "dndz_slics, _ = np.histogram(dat_comb[\"redshift_true_sim\"], bins=z_edges_ext)"
   ]
  },
  {
   "cell_type": "code",
   "execution_count": 26,
   "metadata": {},
   "outputs": [
    {
     "name": "stdout",
     "output_type": "stream",
     "text": [
      "Warning: in at least one z-bin the number of resampled galaxies will be zero.\n",
      "Warning: in 61 z-bins the number of resampled galaxies is larger than the input number.\n",
      "dropping 26947 to match nofz\n"
     ]
    }
   ],
   "source": [
    "# Resample\n",
    "n_goal = len(dat_comb) / 10\n",
    "slics.resample_z(dat_comb, dndz_CFIS_path, n_goal, z_max=1.8, verbose=True)"
   ]
  },
  {
   "cell_type": "code",
   "execution_count": 12,
   "metadata": {},
   "outputs": [],
   "source": [
    "# Testing\n",
    "\n",
    "# Resampled SLICS redshift histogram\n",
    "dndz_resampled, _ = np.histogram(dat_comb[\"redshift_true_sim\"], bins=z_edges_ext)"
   ]
  },
  {
   "cell_type": "code",
   "execution_count": 1,
   "metadata": {},
   "outputs": [
    {
     "ename": "NameError",
     "evalue": "name 'plt' is not defined",
     "output_type": "error",
     "traceback": [
      "\u001b[0;31m---------------------------------------------------------------------------\u001b[0m",
      "\u001b[0;31mNameError\u001b[0m                                 Traceback (most recent call last)",
      "Cell \u001b[0;32mIn[1], line 2\u001b[0m\n\u001b[1;32m      1\u001b[0m \u001b[38;5;66;03m# Testing: resampled numbers are never higher than original ones\u001b[39;00m\n\u001b[0;32m----> 2\u001b[0m fig, ax \u001b[38;5;241m=\u001b[39m \u001b[43mplt\u001b[49m\u001b[38;5;241m.\u001b[39msubplots(figsize\u001b[38;5;241m=\u001b[39m(\u001b[38;5;241m8\u001b[39m, \u001b[38;5;241m8\u001b[39m))\n\u001b[1;32m      4\u001b[0m ax\u001b[38;5;241m.\u001b[39mplot(\n\u001b[1;32m      5\u001b[0m     z_centers_ext, dndz_slics, \u001b[38;5;124m'\u001b[39m\u001b[38;5;124m-\u001b[39m\u001b[38;5;124m'\u001b[39m,\n\u001b[1;32m      6\u001b[0m     z_centers_ext, dndz_resampled, \u001b[38;5;124m'\u001b[39m\u001b[38;5;124m-\u001b[39m\u001b[38;5;124m'\u001b[39m,\n\u001b[1;32m      7\u001b[0m )\n\u001b[1;32m      8\u001b[0m ax\u001b[38;5;241m.\u001b[39mset_xlim([\u001b[38;5;241m0\u001b[39m, \u001b[38;5;241m2\u001b[39m])\n",
      "\u001b[0;31mNameError\u001b[0m: name 'plt' is not defined"
     ]
    }
   ],
   "source": [
    "# Testing: resampled numbers are never higher than original ones\n",
    "fig, ax = plt.subplots(figsize=(8, 8))\n",
    "\n",
    "ax.plot(\n",
    "    z_centers_ext, dndz_slics, '-',\n",
    "    z_centers_ext, dndz_resampled, '-',\n",
    ")\n",
    "ax.set_xlim([0, 2])\n",
    "plt.savefig(\"dndz_slics_res.pdf\")"
   ]
  },
  {
   "cell_type": "code",
   "execution_count": 14,
   "metadata": {},
   "outputs": [
    {
     "name": "stderr",
     "output_type": "stream",
     "text": [
      "/tmp/ipykernel_47592/2664705319.py:6: RuntimeWarning: invalid value encountered in divide\n",
      "  z_centers_ext, dndz_resampled / dndz_slics, '-',\n"
     ]
    },
    {
     "data": {
      "text/plain": [
       "(0.0, 2.0)"
      ]
     },
     "execution_count": 14,
     "metadata": {},
     "output_type": "execute_result"
    },
    {
     "data": {
      "image/png": "[encoded data removed]",
      "text/plain": [
       "<Figure size 800x800 with 1 Axes>"
      ]
     },
     "metadata": {},
     "output_type": "display_data"
    }
   ],
   "source": [
    "# Testing: ratio of resampled to original numbers are never larger than unity\n",
    "\n",
    "fig, ax = plt.subplots(figsize=(8, 8))\n",
    "\n",
    "ax.plot(\n",
    "    z_centers_ext, dndz_resampled / dndz_slics, '-',\n",
    ")\n",
    "ax.set_xlim([0, 2])\n",
    "plt.savefig(\"dndz_slics_res_ratio.pdf\")"
   ]
  },
  {
   "cell_type": "code",
   "execution_count": 2,
   "metadata": {},
   "outputs": [
    {
     "ename": "NameError",
     "evalue": "name 'np' is not defined",
     "output_type": "error",
     "traceback": [
      "\u001b[0;31m---------------------------------------------------------------------------\u001b[0m",
      "\u001b[0;31mNameError\u001b[0m                                 Traceback (most recent call last)",
      "Cell \u001b[0;32mIn[2], line 2\u001b[0m\n\u001b[1;32m      1\u001b[0m \u001b[38;5;66;03m# Resampled SLICS redshift histogram\u001b[39;00m\n\u001b[0;32m----> 2\u001b[0m dndz_resampled_norm, _ \u001b[38;5;241m=\u001b[39m \u001b[43mnp\u001b[49m\u001b[38;5;241m.\u001b[39mhistogram(dat_comb[\u001b[38;5;124m\"\u001b[39m\u001b[38;5;124mredshift_true_sim\u001b[39m\u001b[38;5;124m\"\u001b[39m], bins\u001b[38;5;241m=\u001b[39mz_edges_ext, density\u001b[38;5;241m=\u001b[39m\u001b[38;5;28;01mTrue\u001b[39;00m)\n\u001b[1;32m      4\u001b[0m \u001b[38;5;66;03m# Testing: resampled dndz follows external dndz\u001b[39;00m\n\u001b[1;32m      6\u001b[0m fig, ax \u001b[38;5;241m=\u001b[39m plt\u001b[38;5;241m.\u001b[39msubplots(figsize\u001b[38;5;241m=\u001b[39m(\u001b[38;5;241m8\u001b[39m, \u001b[38;5;241m8\u001b[39m))\n",
      "\u001b[0;31mNameError\u001b[0m: name 'np' is not defined"
     ]
    }
   ],
   "source": [
    "# Resampled SLICS redshift histogram\n",
    "dndz_resampled_norm, _ = np.histogram(dat_comb[\"redshift_true_sim\"], bins=z_edges_ext, density=True)\n",
    "\n",
    "# Testing: resampled dndz follows external dndz\n",
    "\n",
    "fig, ax = plt.subplots(figsize=(8, 8))\n",
    "\n",
    "ax.plot(z_centers_ext, dndz_ext, '-', label='CFIS')\n",
    "ax.plot(z_centers_ext, dndz_resampled_norm, '-', label='resampled')\n",
    "ax.set_xlim([0, 2])\n",
    "_ = ax.legend()\n",
    "plt.savefig(\"dndz_CFIS_res.pdf\")"
   ]
  },
  {
   "cell_type": "code",
   "execution_count": null,
   "metadata": {},
   "outputs": [],
   "source": []
  }
 ],
 "metadata": {
  "jupytext": {
   "formats": "ipynb,py"
  },
  "kernelspec": {
   "display_name": "Python 3 (ipykernel)",
   "language": "python",
   "name": "python3"
  },
  "language_info": {
   "codemirror_mode": {
    "name": "ipython",
    "version": 3
   },
   "file_extension": ".py",
   "mimetype": "text/x-python",
   "name": "python",
   "nbconvert_exporter": "python",
   "pygments_lexer": "ipython3",
   "version": "3.10.6"
  }
 },
 "nbformat": 4,
 "nbformat_minor": 4
}
